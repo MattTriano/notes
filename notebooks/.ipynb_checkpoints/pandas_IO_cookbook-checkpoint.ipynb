{
 "cells": [
  {
   "cell_type": "code",
   "execution_count": 1,
   "metadata": {},
   "outputs": [],
   "source": [
    "import os\n",
    "import pandas as pd\n",
    "import numpy as np\n",
    "import re\n",
    "import matplotlib.pyplot as plt\n",
    "import seaborn as sns\n",
    "from datetime import datetime\n",
    "from urllib.request import urlretrieve\n",
    "from IPython.core.display import display, HTML\n",
    "%matplotlib inline"
   ]
  },
  {
   "cell_type": "code",
   "execution_count": 2,
   "metadata": {},
   "outputs": [
    {
     "data": {
      "text/html": [
       "<style>.container { width:100% !important; }</style>"
      ],
      "text/plain": [
       "<IPython.core.display.HTML object>"
      ]
     },
     "metadata": {},
     "output_type": "display_data"
    }
   ],
   "source": [
    "# Notebook Styling \n",
    "sns.set()\n",
    "pd.options.display.max_columns = None\n",
    "display(HTML(\"<style>.container { width:100% !important; }</style>\"))"
   ]
  },
  {
   "cell_type": "code",
   "execution_count": 3,
   "metadata": {},
   "outputs": [],
   "source": [
    "def ensure_dir_exists(DIR_PATH):\n",
    "    if not os.path.isdir(DIR_PATH):\n",
    "        os.makedirs(DIR_PATH)\n",
    "\n",
    "DATA_DIR = os.path.join('..', 'data_raw')\n",
    "ensure_dir_exists(DATA_DIR)"
   ]
  },
  {
   "cell_type": "markdown",
   "metadata": {},
   "source": [
    "# Examining files in a zipped archive"
   ]
  },
  {
   "cell_type": "code",
   "execution_count": 4,
   "metadata": {},
   "outputs": [],
   "source": [
    "from zipfile import ZipFile\n",
    "import shutil\n",
    "\n",
    "def download_city_TheTrace_data(data_url, DEBUG = False, DATA_DIR=DATA_DIR):\n",
    "    file_name = data_url.split('/')[-1]\n",
    "    dir_path = os.path.join(DATA_DIR)\n",
    "    file_path = os.path.join(dir_path, file_name)\n",
    "    if DEBUG: print(f\"dir_path:  {dir_path}\")\n",
    "    if DEBUG: print(f\"file_path: {file_path}\")\n",
    "    ensure_dir_exists(dir_path)\n",
    "    if not os.path.isfile(file_path):\n",
    "        urlretrieve(data_url, file_path)\n",
    "        print(f\"{file_name} successfully downloaded\")\n",
    "    city_data_dir = os.path.join(dir_path, file_name.replace('.zip', ''))\n",
    "    if os.path.isfile(file_path) and not os.path.isdir(city_data_dir):\n",
    "        with ZipFile(file_path, 'r') as zip_ref:\n",
    "            zip_ref.extractall(dir_path)\n",
    "        macosx_dir_path = os.path.join(dir_path, '__MACOSX')\n",
    "        if os.path.isdir(macosx_dir_path):\n",
    "            shutil.rmtree(macosx_dir_path)\n",
    "        print(f\"{file_name} successfully extracted\")\n",
    "    else:\n",
    "        print('Data already downloaded and extracted')"
   ]
  },
  {
   "cell_type": "code",
   "execution_count": 5,
   "metadata": {},
   "outputs": [
    {
     "name": "stdout",
     "output_type": "stream",
     "text": [
      "Data already downloaded and extracted\n"
     ]
    }
   ],
   "source": [
    "download_city_TheTrace_data(data_url = 'https://freetoshootagain.s3.amazonaws.com/Chicago_IL.zip')"
   ]
  },
  {
   "cell_type": "code",
   "execution_count": 6,
   "metadata": {},
   "outputs": [
    {
     "data": {
      "text/plain": [
       "['Chicago_IL.zip', 'Chicago_IL']"
      ]
     },
     "execution_count": 6,
     "metadata": {},
     "output_type": "execute_result"
    }
   ],
   "source": [
    "os.listdir(DATA_DIR)"
   ]
  },
  {
   "cell_type": "markdown",
   "metadata": {},
   "source": [
    "So, I've already extracted the zip file in the download_city_TheTrace_data() function, but if you wanted to explore the files while still-zipped, do this."
   ]
  },
  {
   "cell_type": "code",
   "execution_count": 7,
   "metadata": {},
   "outputs": [
    {
     "name": "stdout",
     "output_type": "stream",
     "text": [
      "Chicago_IL/\n",
      "Chicago_IL/Case status definitions.pdf\n",
      "__MACOSX/\n",
      "__MACOSX/Chicago_IL/\n",
      "__MACOSX/Chicago_IL/._Case status definitions.pdf\n",
      "Chicago_IL/READ_ME.xlsx\n",
      "__MACOSX/Chicago_IL/._READ_ME.xlsx\n",
      "Chicago_IL/14370_P519598_Ryley_Homicides_and_Shootings_original_Jan_2001_thru_Aug_31_2019.xlsx\n",
      "__MACOSX/Chicago_IL/._14370_P519598_Ryley_Homicides_and_Shootings_original_Jan_2001_thru_Aug_31_2019.xlsx\n"
     ]
    }
   ],
   "source": [
    "ZIP_PATH = os.path.join(DATA_DIR, 'Chicago_IL.zip')\n",
    "\n",
    "with ZipFile(ZIP_PATH, 'r') as zip_ref:\n",
    "    zipped_file_names = zip_ref.namelist()\n",
    "    for file_name in zipped_file_names:\n",
    "        print(file_name)"
   ]
  },
  {
   "cell_type": "code",
   "execution_count": 8,
   "metadata": {},
   "outputs": [
    {
     "data": {
      "text/plain": [
       "'Chicago_IL/14370_P519598_Ryley_Homicides_and_Shootings_original_Jan_2001_thru_Aug_31_2019.xlsx'"
      ]
     },
     "execution_count": 8,
     "metadata": {},
     "output_type": "execute_result"
    }
   ],
   "source": [
    "excel_file_name = [fn for fn in zipped_file_names if 'Homicides_and_Shootings' in fn and 'MACOSX' not in fn][0]\n",
    "excel_file_name"
   ]
  },
  {
   "cell_type": "code",
   "execution_count": 9,
   "metadata": {},
   "outputs": [],
   "source": [
    "with ZipFile(ZIP_PATH, 'r') as zip_ref:\n",
    "    with zip_ref.open(excel_file_name) as my_file_path:\n",
    "        excel_file = pd.ExcelFile(my_file_path)\n",
    "        file_sheet_names = excel_file.sheet_names"
   ]
  },
  {
   "cell_type": "code",
   "execution_count": 10,
   "metadata": {},
   "outputs": [
    {
     "data": {
      "text/plain": [
       "['Shooting Incidents', 'Homicides']"
      ]
     },
     "execution_count": 10,
     "metadata": {},
     "output_type": "execute_result"
    }
   ],
   "source": [
    "file_sheet_names"
   ]
  },
  {
   "cell_type": "code",
   "execution_count": 11,
   "metadata": {},
   "outputs": [
    {
     "data": {
      "text/html": [
       "<div>\n",
       "<style scoped>\n",
       "    .dataframe tbody tr th:only-of-type {\n",
       "        vertical-align: middle;\n",
       "    }\n",
       "\n",
       "    .dataframe tbody tr th {\n",
       "        vertical-align: top;\n",
       "    }\n",
       "\n",
       "    .dataframe thead th {\n",
       "        text-align: right;\n",
       "    }\n",
       "</style>\n",
       "<table border=\"1\" class=\"dataframe\">\n",
       "  <thead>\n",
       "    <tr style=\"text-align: right;\">\n",
       "      <th></th>\n",
       "      <th>RD</th>\n",
       "      <th>ID</th>\n",
       "      <th>Date</th>\n",
       "      <th>IUCR</th>\n",
       "      <th>IUCR Primary Description</th>\n",
       "      <th>Weapon Used</th>\n",
       "      <th>Status</th>\n",
       "      <th>Address</th>\n",
       "      <th>City</th>\n",
       "      <th>Beat</th>\n",
       "      <th>District</th>\n",
       "    </tr>\n",
       "  </thead>\n",
       "  <tbody>\n",
       "    <tr>\n",
       "      <th>0</th>\n",
       "      <td>HS100027</td>\n",
       "      <td>7296966.0</td>\n",
       "      <td>2010-01-01</td>\n",
       "      <td>041A</td>\n",
       "      <td>BATTERY</td>\n",
       "      <td>FIREARM</td>\n",
       "      <td>1-SUSPENDED</td>\n",
       "      <td>78XX S WOOD ST</td>\n",
       "      <td>CHICAGO</td>\n",
       "      <td>611.0</td>\n",
       "      <td>6.0</td>\n",
       "    </tr>\n",
       "    <tr>\n",
       "      <th>1</th>\n",
       "      <td>HS100196</td>\n",
       "      <td>7297039.0</td>\n",
       "      <td>2010-01-01</td>\n",
       "      <td>041A</td>\n",
       "      <td>BATTERY</td>\n",
       "      <td>FIREARM</td>\n",
       "      <td>1-SUSPENDED</td>\n",
       "      <td>22XX W ARTHUR AVE</td>\n",
       "      <td>CHICAGO</td>\n",
       "      <td>2412.0</td>\n",
       "      <td>24.0</td>\n",
       "    </tr>\n",
       "  </tbody>\n",
       "</table>\n",
       "</div>"
      ],
      "text/plain": [
       "         RD         ID       Date  IUCR IUCR Primary Description Weapon Used  \\\n",
       "0  HS100027  7296966.0 2010-01-01  041A                  BATTERY     FIREARM   \n",
       "1  HS100196  7297039.0 2010-01-01  041A                  BATTERY     FIREARM   \n",
       "\n",
       "        Status            Address     City    Beat  District  \n",
       "0  1-SUSPENDED     78XX S WOOD ST  CHICAGO   611.0       6.0  \n",
       "1  1-SUSPENDED  22XX W ARTHUR AVE  CHICAGO  2412.0      24.0  "
      ]
     },
     "execution_count": 11,
     "metadata": {},
     "output_type": "execute_result"
    }
   ],
   "source": [
    "shooting_df = excel_file.parse(sheet_name='Shooting Incidents')\n",
    "shooting_df.head(2)"
   ]
  },
  {
   "cell_type": "code",
   "execution_count": 12,
   "metadata": {},
   "outputs": [
    {
     "data": {
      "text/html": [
       "<div>\n",
       "<style scoped>\n",
       "    .dataframe tbody tr th:only-of-type {\n",
       "        vertical-align: middle;\n",
       "    }\n",
       "\n",
       "    .dataframe tbody tr th {\n",
       "        vertical-align: top;\n",
       "    }\n",
       "\n",
       "    .dataframe thead th {\n",
       "        text-align: right;\n",
       "    }\n",
       "</style>\n",
       "<table border=\"1\" class=\"dataframe\">\n",
       "  <thead>\n",
       "    <tr style=\"text-align: right;\">\n",
       "      <th></th>\n",
       "      <th>RD</th>\n",
       "      <th>ID</th>\n",
       "      <th>Date</th>\n",
       "      <th>IUCR</th>\n",
       "      <th>IUCR Primary Description</th>\n",
       "      <th>Injury Type</th>\n",
       "      <th>Cleared?2</th>\n",
       "      <th>Date Cleared</th>\n",
       "      <th>Address</th>\n",
       "      <th>City</th>\n",
       "      <th>Beat</th>\n",
       "      <th>District</th>\n",
       "      <th>Death Cause Category</th>\n",
       "      <th>Victim Name</th>\n",
       "      <th>Victim Sex</th>\n",
       "      <th>Victim Age</th>\n",
       "      <th>Victim Race</th>\n",
       "      <th>Victim Rel to Offender</th>\n",
       "    </tr>\n",
       "  </thead>\n",
       "  <tbody>\n",
       "    <tr>\n",
       "      <th>0</th>\n",
       "      <td>G057558</td>\n",
       "      <td>671.0</td>\n",
       "      <td>2001-01-01</td>\n",
       "      <td>110.0</td>\n",
       "      <td>HOMICIDE</td>\n",
       "      <td>STABBED</td>\n",
       "      <td>Y</td>\n",
       "      <td>2001-02-26</td>\n",
       "      <td>76XX S MAY ST</td>\n",
       "      <td>CHICAGO</td>\n",
       "      <td>612.0</td>\n",
       "      <td>6.0</td>\n",
       "      <td>ALTERCATION</td>\n",
       "      <td>QUANSON BUCKLEY</td>\n",
       "      <td>M</td>\n",
       "      <td>28.0</td>\n",
       "      <td>BLACK</td>\n",
       "      <td>SOME ACQUAINTANCE</td>\n",
       "    </tr>\n",
       "    <tr>\n",
       "      <th>1</th>\n",
       "      <td>G000705</td>\n",
       "      <td>634.0</td>\n",
       "      <td>2001-01-01</td>\n",
       "      <td>110.0</td>\n",
       "      <td>HOMICIDE</td>\n",
       "      <td>SHOT</td>\n",
       "      <td>N</td>\n",
       "      <td>NaT</td>\n",
       "      <td>24XX W MONROE ST</td>\n",
       "      <td>CHICAGO</td>\n",
       "      <td>1125.0</td>\n",
       "      <td>11.0</td>\n",
       "      <td>ALTERCATION</td>\n",
       "      <td>MARKITA RICHARDSON</td>\n",
       "      <td>F</td>\n",
       "      <td>24.0</td>\n",
       "      <td>BLACK</td>\n",
       "      <td>NOT ESTABLISHED</td>\n",
       "    </tr>\n",
       "  </tbody>\n",
       "</table>\n",
       "</div>"
      ],
      "text/plain": [
       "        RD     ID       Date   IUCR IUCR Primary Description Injury Type  \\\n",
       "0  G057558  671.0 2001-01-01  110.0                 HOMICIDE     STABBED   \n",
       "1  G000705  634.0 2001-01-01  110.0                 HOMICIDE        SHOT   \n",
       "\n",
       "  Cleared?2 Date Cleared           Address     City    Beat  District  \\\n",
       "0         Y   2001-02-26     76XX S MAY ST  CHICAGO   612.0       6.0   \n",
       "1         N          NaT  24XX W MONROE ST  CHICAGO  1125.0      11.0   \n",
       "\n",
       "  Death Cause Category         Victim Name Victim Sex  Victim Age Victim Race  \\\n",
       "0          ALTERCATION     QUANSON BUCKLEY          M        28.0       BLACK   \n",
       "1          ALTERCATION  MARKITA RICHARDSON          F        24.0       BLACK   \n",
       "\n",
       "  Victim Rel to Offender  \n",
       "0      SOME ACQUAINTANCE  \n",
       "1        NOT ESTABLISHED  "
      ]
     },
     "execution_count": 12,
     "metadata": {},
     "output_type": "execute_result"
    }
   ],
   "source": [
    "homicide_df = excel_file.parse(sheet_name='Homicides')\n",
    "homicide_df.head(2)"
   ]
  },
  {
   "cell_type": "code",
   "execution_count": null,
   "metadata": {},
   "outputs": [],
   "source": []
  },
  {
   "cell_type": "code",
   "execution_count": null,
   "metadata": {},
   "outputs": [],
   "source": []
  },
  {
   "cell_type": "code",
   "execution_count": null,
   "metadata": {},
   "outputs": [],
   "source": []
  },
  {
   "cell_type": "code",
   "execution_count": null,
   "metadata": {},
   "outputs": [],
   "source": []
  },
  {
   "cell_type": "code",
   "execution_count": null,
   "metadata": {},
   "outputs": [],
   "source": []
  },
  {
   "cell_type": "code",
   "execution_count": null,
   "metadata": {},
   "outputs": [],
   "source": []
  },
  {
   "cell_type": "code",
   "execution_count": null,
   "metadata": {},
   "outputs": [],
   "source": []
  },
  {
   "cell_type": "code",
   "execution_count": null,
   "metadata": {},
   "outputs": [],
   "source": []
  },
  {
   "cell_type": "code",
   "execution_count": null,
   "metadata": {},
   "outputs": [],
   "source": []
  },
  {
   "cell_type": "code",
   "execution_count": null,
   "metadata": {},
   "outputs": [],
   "source": []
  },
  {
   "cell_type": "code",
   "execution_count": null,
   "metadata": {},
   "outputs": [],
   "source": []
  }
 ],
 "metadata": {
  "kernelspec": {
   "display_name": "Python (geo_env)",
   "language": "python",
   "name": "geo_env"
  },
  "language_info": {
   "codemirror_mode": {
    "name": "ipython",
    "version": 3
   },
   "file_extension": ".py",
   "mimetype": "text/x-python",
   "name": "python",
   "nbconvert_exporter": "python",
   "pygments_lexer": "ipython3",
   "version": "3.8.6"
  }
 },
 "nbformat": 4,
 "nbformat_minor": 4
}
