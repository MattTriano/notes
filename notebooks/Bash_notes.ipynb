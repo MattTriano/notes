{
 "cells": [
  {
   "cell_type": "code",
   "execution_count": 7,
   "metadata": {},
   "outputs": [],
   "source": [
    "import os\n",
    "import pandas as pd\n",
    "import numpy as np\n",
    "import matplotlib.pyplot as plt\n",
    "import seaborn as sns\n",
    "from urllib.request import urlretrieve\n",
    "from IPython.core.display import display, HTML\n",
    "%matplotlib inline"
   ]
  },
  {
   "cell_type": "code",
   "execution_count": 8,
   "metadata": {},
   "outputs": [
    {
     "data": {
      "text/html": [
       "<style>.container { width:100% !important; }</style>"
      ],
      "text/plain": [
       "<IPython.core.display.HTML object>"
      ]
     },
     "metadata": {},
     "output_type": "display_data"
    }
   ],
   "source": [
    "pd.options.display.max_columns = None\n",
    "display(HTML(\"<style>.container { width:100% !important; }</style>\"))"
   ]
  },
  {
   "cell_type": "markdown",
   "metadata": {},
   "source": [
    "# Bash"
   ]
  },
  {
   "cell_type": "markdown",
   "metadata": {},
   "source": [
    "## Input Redirection\n",
    "\n",
    "All linux/unix processes take some input via `stdin` and output information in either `stdout` or `stdedd`. This allows a shell to capture the output of any process that writes messages to the terminal.\n",
    "\n",
    "You can redirect `stdout` output from (for example) `ls -la` to a file via:\n",
    "\n",
    "```bash\n",
    "$ ls -la > lsout\n",
    "```\n",
    "\n",
    "Or you can redirect `stderr` output from (for example) `ls -la` to a file via:\n",
    "\n",
    "```bash\n",
    "$ ls -la unknown_command 2> lsout\n",
    "```\n",
    "\n",
    "Or you can redirect both `strout` and `stderr` output from (for example) `ls -la` to two files via:\n",
    "\n",
    "```bash\n",
    "$ ls -la unknown_command > lsout 2> lserr\n",
    "```\n",
    "\n",
    "Or you can redirect both `strout` and `stderr` output from (for example) `ls -la` to one files via:\n",
    "\n",
    "```bash\n",
    "$ ls -la unknown_command &> lsboth \n",
    "```"
   ]
  },
  {
   "cell_type": "markdown",
   "metadata": {},
   "source": [
    "If you want to redirect `strerr` to the same place as `stdout`, you can do:\n",
    "```bash\n",
    "$ ls not.here 2>&1 | wc\n",
    "```"
   ]
  },
  {
   "cell_type": "markdown",
   "metadata": {},
   "source": [
    "* Pipes\n",
    "\n",
    "You can chain together operations with a pipe (`|`)\n",
    "\n",
    "```bash\n",
    "$ ls | wc\n",
    "```"
   ]
  },
  {
   "cell_type": "code",
   "execution_count": 1,
   "metadata": {},
   "outputs": [
    {
     "name": "stdout",
     "output_type": "stream",
     "text": [
      "      9       9     187\r\n"
     ]
    }
   ],
   "source": [
    "!ls | wc"
   ]
  },
  {
   "cell_type": "markdown",
   "metadata": {},
   "source": [
    "* Here document\n",
    "\n",
    "You can use the `<<` operator to enter text to `stdin` and feed it right to a program. In the line, I'll specify the term that indicates I'm done entering text (`EOF`) in the top line.\n",
    "\n",
    "```bash\n",
    "$ wc << EOF\n",
    "> this is a test\n",
    "> hey\n",
    "> EOF\n",
    " 2  5 19\n",
    "```"
   ]
  },
  {
   "cell_type": "markdown",
   "metadata": {},
   "source": [
    "* Simple Phone Book\n",
    "\n",
    "If you make a file (let's call it `ph`) like \n",
    "\n",
    "```\n",
    "grep -i << EOF\n",
    "matt 123-4567\n",
    "tom 234-9278\n",
    "jenny 867-5309\n",
    "EOF\n",
    "```\n",
    "\n",
    "you can run that program via\n",
    "\n",
    "```bash\n",
    "$ bash ph Matt\n",
    "```\n",
    "and the `grep` program will be called to look through for a 'matt', then return that line."
   ]
  },
  {
   "cell_type": "markdown",
   "metadata": {},
   "source": [
    "* Setting a command to run asynchronously (ie to allow you to enter more commands while that first command executes)\n",
    "\n",
    "To do this, through an ampersand (`&`) on the end of the line. You'll get the prompt back and get a printout when that comand finishes."
   ]
  },
  {
   "cell_type": "markdown",
   "metadata": {},
   "source": [
    "* running multiple commands on the same line\n",
    "\n",
    "Separate them by a semicolon (`:`)."
   ]
  },
  {
   "cell_type": "markdown",
   "metadata": {},
   "source": [
    "* Changing permissions so you can run a command you've written without prepending `bash`\n",
    "\n",
    "```bash\n",
    "$ chmod 755 myscript\n",
    "```\n",
    "\n",
    "or \n",
    "\n",
    "```bash\n",
    "$ chmod a+x myscript\n",
    "```"
   ]
  },
  {
   "cell_type": "markdown",
   "metadata": {},
   "source": [
    "* Perform a syntax check on a script\n",
    "\n",
    "```bash\n",
    "$ bash -n myscript\n",
    "```\n",
    "\n",
    "(won't produce output unless there's a syntax error)."
   ]
  },
  {
   "cell_type": "markdown",
   "metadata": {},
   "source": [
    "* Commenting things in a bash script\n",
    "\n",
    "Use a pound sign or hashtag (`#`) at the beginning of the line to be commented."
   ]
  },
  {
   "cell_type": "markdown",
   "metadata": {},
   "source": [
    "# Conditionals"
   ]
  },
  {
   "cell_type": "markdown",
   "metadata": {},
   "source": [
    "You can use the and operator (`&&`) to make subsequent commands dependent on the success of earlier commands. \n",
    "\n",
    "For example, if you wanted to clear all of the files in the `/temp` directory, you could use this to make sure you successfully changed directories to `/temp` before deleting files.\n",
    "\n",
    "```bash\n",
    "$ cd /temp && rm *\n",
    "```"
   ]
  },
  {
   "cell_type": "markdown",
   "metadata": {},
   "source": [
    "If you want to do something only upon failure, you can use the **or** operator (`||`)"
   ]
  },
  {
   "cell_type": "code",
   "execution_count": null,
   "metadata": {},
   "outputs": [],
   "source": []
  },
  {
   "cell_type": "code",
   "execution_count": null,
   "metadata": {},
   "outputs": [],
   "source": []
  },
  {
   "cell_type": "code",
   "execution_count": null,
   "metadata": {},
   "outputs": [],
   "source": []
  },
  {
   "cell_type": "code",
   "execution_count": null,
   "metadata": {},
   "outputs": [],
   "source": []
  },
  {
   "cell_type": "code",
   "execution_count": null,
   "metadata": {},
   "outputs": [],
   "source": []
  },
  {
   "cell_type": "code",
   "execution_count": null,
   "metadata": {},
   "outputs": [],
   "source": []
  },
  {
   "cell_type": "code",
   "execution_count": null,
   "metadata": {},
   "outputs": [],
   "source": []
  },
  {
   "cell_type": "code",
   "execution_count": null,
   "metadata": {},
   "outputs": [],
   "source": []
  },
  {
   "cell_type": "code",
   "execution_count": null,
   "metadata": {},
   "outputs": [],
   "source": []
  },
  {
   "cell_type": "code",
   "execution_count": null,
   "metadata": {},
   "outputs": [],
   "source": []
  },
  {
   "cell_type": "code",
   "execution_count": null,
   "metadata": {},
   "outputs": [],
   "source": []
  },
  {
   "cell_type": "code",
   "execution_count": null,
   "metadata": {},
   "outputs": [],
   "source": []
  },
  {
   "cell_type": "code",
   "execution_count": null,
   "metadata": {},
   "outputs": [],
   "source": []
  },
  {
   "cell_type": "code",
   "execution_count": null,
   "metadata": {},
   "outputs": [],
   "source": []
  },
  {
   "cell_type": "code",
   "execution_count": null,
   "metadata": {},
   "outputs": [],
   "source": []
  },
  {
   "cell_type": "code",
   "execution_count": null,
   "metadata": {},
   "outputs": [],
   "source": []
  },
  {
   "cell_type": "code",
   "execution_count": null,
   "metadata": {},
   "outputs": [],
   "source": []
  },
  {
   "cell_type": "code",
   "execution_count": null,
   "metadata": {},
   "outputs": [],
   "source": []
  },
  {
   "cell_type": "code",
   "execution_count": null,
   "metadata": {},
   "outputs": [],
   "source": []
  },
  {
   "cell_type": "code",
   "execution_count": null,
   "metadata": {},
   "outputs": [],
   "source": []
  },
  {
   "cell_type": "code",
   "execution_count": null,
   "metadata": {},
   "outputs": [],
   "source": []
  }
 ],
 "metadata": {
  "kernelspec": {
   "display_name": "Python (geo_env)",
   "language": "python",
   "name": "geo_env"
  },
  "language_info": {
   "codemirror_mode": {
    "name": "ipython",
    "version": 3
   },
   "file_extension": ".py",
   "mimetype": "text/x-python",
   "name": "python",
   "nbconvert_exporter": "python",
   "pygments_lexer": "ipython3",
   "version": "3.9.2"
  }
 },
 "nbformat": 4,
 "nbformat_minor": 4
}
