{
 "cells": [
  {
   "cell_type": "code",
   "execution_count": 1,
   "metadata": {},
   "outputs": [],
   "source": [
    "import os\n",
    "import pandas as pd\n",
    "import numpy as np\n",
    "import matplotlib.pyplot as plt\n",
    "import seaborn as sns\n",
    "from urllib.request import urlretrieve\n",
    "from IPython.core.display import display, HTML\n",
    "%matplotlib inline"
   ]
  },
  {
   "cell_type": "code",
   "execution_count": 3,
   "metadata": {},
   "outputs": [],
   "source": [
    "# from cryptography.hazmat.backends import default_backend\n",
    "# from cryptography.hazmat.primitives import hashes\n",
    "# from cryptography.hazmat.primitives.asymmetric import rsa, padding"
   ]
  },
  {
   "cell_type": "code",
   "execution_count": 2,
   "metadata": {},
   "outputs": [
    {
     "data": {
      "text/html": [
       "<style>.container { width:100% !important; }</style>"
      ],
      "text/plain": [
       "<IPython.core.display.HTML object>"
      ]
     },
     "metadata": {},
     "output_type": "display_data"
    }
   ],
   "source": [
    "pd.options.display.max_columns = None\n",
    "display(HTML(\"<style>.container { width:100% !important; }</style>\"))"
   ]
  },
  {
   "cell_type": "markdown",
   "metadata": {},
   "source": [
    "# SQL"
   ]
  },
  {
   "cell_type": "markdown",
   "metadata": {},
   "source": [
    "## How to identify the type of SQL DB you're working with\n",
    "\n",
    "**Quotation marks**\n",
    "* **Single Quotes Only**\n",
    "    * SQL Server\n",
    "    * PostgreSQL\n",
    "<!--     * Oracle -->\n",
    "* **Single or Double Quotes**\n",
    "    * MySQL\n",
    "    * Sqlite\n",
    "    \n",
    "**Aliases**\n",
    "* **equals sign (=)**\n",
    "    * SQL Server\n",
    "* **AS**\n",
    "    * MySQL\n",
    "    * PostgreSQL\n",
    "    * SQlite"
   ]
  },
  {
   "cell_type": "code",
   "execution_count": null,
   "metadata": {},
   "outputs": [],
   "source": []
  },
  {
   "cell_type": "markdown",
   "metadata": {},
   "source": [
    "# Postgres and PostGIS Queries"
   ]
  },
  {
   "cell_type": "markdown",
   "metadata": {},
   "source": [
    "## How to connect to a postgres server\n",
    "\n",
    "Note: there are many session settings, but so far I've only found it necessary to set `autocommit=True` so inserts, alterations, etc are automatically applied. \n",
    "\n",
    "```python\n",
    "conn = psycopg2.connect(\n",
    "    dbname=\"postgres\",\n",
    "    user=os.environ[\"DC_POSTGRESQL_USER\"],\n",
    "    password=os.environ[\"DC_POSTGRESQL_PASSWORD\"],\n",
    "    port=os.environ[\"DC_POSTGRESQL_PORT\"],\n",
    "    host=\"matt\",\n",
    ")\n",
    "conn.set_session(autocommit=True)\n",
    "cur = conn.cursor()\n",
    "```"
   ]
  },
  {
   "cell_type": "markdown",
   "metadata": {},
   "source": [
    "## How to close a connection to a postgres server\n",
    "\n",
    "```python\n",
    "cur.close()\n",
    "conn.close()\n",
    "```"
   ]
  },
  {
   "cell_type": "markdown",
   "metadata": {},
   "source": [
    "## How to see all tables\n",
    "\n",
    "```python\n",
    "query = \"\"\"\n",
    "SELECT table_name \n",
    "FROM information_schema.tables\n",
    "WHERE table_schema = 'public';\n",
    "\"\"\"\n",
    "\n",
    "cur.execute(query)\n",
    "cur.fetchall()\n",
    "```"
   ]
  },
  {
   "cell_type": "markdown",
   "metadata": {},
   "source": [
    "## How to see the features (and corresponding data types) of a table\n",
    "\n",
    "```python\n",
    "query = \"\"\"\n",
    "-- Change the type of firstname\n",
    "SELECT column_name, data_type from information_schema.columns\n",
    "WHERE table_name = 'professors'\n",
    "\"\"\"\n",
    "\n",
    "cur.execute(query)\n",
    "cur.fetchall()\n",
    "```"
   ]
  },
  {
   "cell_type": "markdown",
   "metadata": {},
   "source": [
    "## How to see database indexes\n",
    "\n",
    "```python\n",
    "query = \"\"\"\n",
    "SELECT *\n",
    "FROM pg_catalog.pg_indexes;\n",
    "\"\"\"\n",
    "\n",
    "cur.execute(query)\n",
    "cur.fetchall()\n",
    "```"
   ]
  },
  {
   "cell_type": "markdown",
   "metadata": {},
   "source": [
    "# Information schema\n",
    "\n",
    "\n",
    "    INFORMATION_SCHEMA.SCHEMATA\n",
    "    INFORMATION_SCHEMA.TABLES\n",
    "    INFORMATION_SCHEMA.COLUMNS\n",
    "    INFORMATION_SCHEMA.STATISTICS\n",
    "    INFORMATION_SCHEMA.USER_PRIVILEGES\n",
    "    INFORMATION_SCHEMA.SCHEMA_PRIVILEGES\n",
    "    INFORMATION_SCHEMA.TABLE_PRIVILEGES\n",
    "    INFORMATION_SCHEMA.COLUMN_PRIVILEGES\n",
    "    INFORMATION_SCHEMA.CHARACTER_SETS\n",
    "    INFORMATION_SCHEMA.COLLATIONS\n",
    "    INFORMATION_SCHEMA.COLLATION_CHARACTER_SET_APPLICABILITY\n",
    "    INFORMATION_SCHEMA.TABLE_CONSTRAINTS\n",
    "    INFORMATION_SCHEMA.KEY_COLUMN_USAGE\n",
    "    INFORMATION_SCHEMA.ROUTINES\n",
    "    INFORMATION_SCHEMA.VIEWS\n",
    "    INFORMATION_SCHEMA.TRIGGERS\n",
    "    INFORMATION_SCHEMA.PROFILING\n"
   ]
  },
  {
   "cell_type": "markdown",
   "metadata": {},
   "source": [
    "## How to see information_schema.tables info\n",
    "\n",
    "```python\n",
    "query = \"\"\"\n",
    "SELECT *\n",
    "FROM information_schema.tables;\n",
    "\"\"\"\n",
    "\n",
    "cur.execute(query)\n",
    "vals = cur.fetchall()\n",
    "\n",
    "df = pd.DataFrame(vals)\n",
    "col_map = {\n",
    "    0: \"TABLE_CATALOG\",\n",
    "    1: \"TABLE_SCHEMA\",\n",
    "    2: \"TABLE_NAME\",\n",
    "    3: \"TABLE_TYPE\",\n",
    "    4: \"SELF_REFERENCING_COLUMN_NAME\",\n",
    "    5: \"REFERENCE_GENERATION\",\n",
    "    6: \"USER_DEFINED_TYPE_CATALOG\",\n",
    "    7: \"USER_DEFINED_TYPE_SCHEMA\",\n",
    "    8: \"USER_DEFINED_TYPE_NAME\",\n",
    "    9: \"IS_INSERTABLE_INTO\",\n",
    "    10: \"IS_TYPED\",\n",
    "    11: \"COMMIT_ACTION\",\n",
    "}\n",
    "\n",
    "df = df.rename(columns=col_map)\n",
    "```"
   ]
  },
  {
   "cell_type": "markdown",
   "metadata": {},
   "source": [
    "## How to see information_schema.columns info\n",
    "\n",
    "```python\n",
    "query = \"\"\"\n",
    "SELECT *\n",
    "FROM information_schema.columns;\n",
    "\"\"\"\n",
    "\n",
    "cur.execute(query)\n",
    "df = pd.DataFrame(cur.fetchall())\n",
    "col_map = {el[0]: el[1] for el in enumerate(info_schema_columns)}\n",
    "df = df.rename(columns=col_map)\n",
    "```"
   ]
  },
  {
   "cell_type": "markdown",
   "metadata": {},
   "source": [
    "## How to see database indexes\n",
    "\n",
    "```python\n",
    "query = \"\"\"\n",
    "SELECT *\n",
    "FROM pg_catalog.pg_indexes;\n",
    "\"\"\"\n",
    "\n",
    "cur.execute(query)\n",
    "cur.fetchall()\n",
    "```"
   ]
  },
  {
   "cell_type": "code",
   "execution_count": null,
   "metadata": {},
   "outputs": [],
   "source": []
  },
  {
   "cell_type": "code",
   "execution_count": null,
   "metadata": {},
   "outputs": [],
   "source": []
  },
  {
   "cell_type": "code",
   "execution_count": null,
   "metadata": {},
   "outputs": [],
   "source": []
  },
  {
   "cell_type": "code",
   "execution_count": null,
   "metadata": {},
   "outputs": [],
   "source": []
  },
  {
   "cell_type": "code",
   "execution_count": null,
   "metadata": {},
   "outputs": [],
   "source": []
  },
  {
   "cell_type": "code",
   "execution_count": null,
   "metadata": {},
   "outputs": [],
   "source": []
  },
  {
   "cell_type": "code",
   "execution_count": null,
   "metadata": {},
   "outputs": [],
   "source": []
  },
  {
   "cell_type": "code",
   "execution_count": null,
   "metadata": {},
   "outputs": [],
   "source": []
  },
  {
   "cell_type": "code",
   "execution_count": null,
   "metadata": {},
   "outputs": [],
   "source": []
  },
  {
   "cell_type": "code",
   "execution_count": null,
   "metadata": {},
   "outputs": [],
   "source": []
  },
  {
   "cell_type": "code",
   "execution_count": null,
   "metadata": {},
   "outputs": [],
   "source": []
  },
  {
   "cell_type": "code",
   "execution_count": null,
   "metadata": {},
   "outputs": [],
   "source": []
  },
  {
   "cell_type": "code",
   "execution_count": null,
   "metadata": {},
   "outputs": [],
   "source": []
  },
  {
   "cell_type": "code",
   "execution_count": null,
   "metadata": {},
   "outputs": [],
   "source": []
  },
  {
   "cell_type": "code",
   "execution_count": null,
   "metadata": {},
   "outputs": [],
   "source": []
  },
  {
   "cell_type": "code",
   "execution_count": null,
   "metadata": {},
   "outputs": [],
   "source": []
  },
  {
   "cell_type": "code",
   "execution_count": null,
   "metadata": {},
   "outputs": [],
   "source": []
  },
  {
   "cell_type": "code",
   "execution_count": null,
   "metadata": {},
   "outputs": [],
   "source": []
  },
  {
   "cell_type": "code",
   "execution_count": null,
   "metadata": {},
   "outputs": [],
   "source": []
  },
  {
   "cell_type": "code",
   "execution_count": null,
   "metadata": {},
   "outputs": [],
   "source": []
  },
  {
   "cell_type": "code",
   "execution_count": null,
   "metadata": {},
   "outputs": [],
   "source": []
  },
  {
   "cell_type": "code",
   "execution_count": null,
   "metadata": {},
   "outputs": [],
   "source": []
  }
 ],
 "metadata": {
  "kernelspec": {
   "display_name": "Python (geo_env)",
   "language": "python",
   "name": "geo_env"
  },
  "language_info": {
   "codemirror_mode": {
    "name": "ipython",
    "version": 3
   },
   "file_extension": ".py",
   "mimetype": "text/x-python",
   "name": "python",
   "nbconvert_exporter": "python",
   "pygments_lexer": "ipython3",
   "version": "3.8.5"
  }
 },
 "nbformat": 4,
 "nbformat_minor": 4
}
