{
 "cells": [
  {
   "cell_type": "code",
   "execution_count": 1,
   "metadata": {},
   "outputs": [],
   "source": [
    "import os\n",
    "import pandas as pd\n",
    "import numpy as np\n",
    "import re\n",
    "import matplotlib.pyplot as plt\n",
    "import seaborn as sns\n",
    "from datetime import datetime\n",
    "from urllib.request import urlretrieve\n",
    "from IPython.core.display import display, HTML\n",
    "%matplotlib inline"
   ]
  },
  {
   "cell_type": "code",
   "execution_count": 2,
   "metadata": {},
   "outputs": [
    {
     "data": {
      "text/html": [
       "<style>.container { width:100% !important; }</style>"
      ],
      "text/plain": [
       "<IPython.core.display.HTML object>"
      ]
     },
     "metadata": {},
     "output_type": "display_data"
    }
   ],
   "source": [
    "# Notebook Styling \n",
    "sns.set()\n",
    "pd.options.display.max_columns = None\n",
    "display(HTML(\"<style>.container { width:100% !important; }</style>\"))"
   ]
  },
  {
   "cell_type": "code",
   "execution_count": 3,
   "metadata": {},
   "outputs": [],
   "source": [
    "def ensure_dir_exists(DIR_PATH):\n",
    "    if not os.path.isdir(DIR_PATH):\n",
    "        os.makedirs(DIR_PATH)\n",
    "\n",
    "ROOT_DATA_DIR = os.path.join('..', 'data_raw')\n",
    "ensure_dir_exists(ROOT_DATA_DIR)"
   ]
  },
  {
   "cell_type": "code",
   "execution_count": 5,
   "metadata": {},
   "outputs": [
    {
     "data": {
      "text/plain": [
       "['gz']"
      ]
     },
     "execution_count": 5,
     "metadata": {},
     "output_type": "execute_result"
    }
   ],
   "source": [
    "DATA_DIR = os.path.join(ROOT_DATA_DIR, \"compressed\")\n",
    "os.listdir(DATA_DIR)"
   ]
  },
  {
   "cell_type": "markdown",
   "metadata": {},
   "source": [
    "# Unzipping gz files"
   ]
  },
  {
   "cell_type": "code",
   "execution_count": 10,
   "metadata": {},
   "outputs": [],
   "source": [
    "import gzip"
   ]
  },
  {
   "cell_type": "code",
   "execution_count": 14,
   "metadata": {},
   "outputs": [
    {
     "data": {
      "text/plain": [
       "['NYC_Open_Data_Film_Permits_sample5k.csv.gz']"
      ]
     },
     "execution_count": 14,
     "metadata": {},
     "output_type": "execute_result"
    }
   ],
   "source": [
    "gz_dir = os.path.join(ROOT_DATA_DIR, \"compressed\", \"gz\")\n",
    "gz_file_names = os.listdir(gz_dir)\n",
    "gz_file_names"
   ]
  },
  {
   "cell_type": "code",
   "execution_count": 16,
   "metadata": {},
   "outputs": [
    {
     "data": {
      "text/plain": [
       "'../data_raw/compressed/gz/NYC_Open_Data_Film_Permits_sample5k.csv.gz'"
      ]
     },
     "execution_count": 16,
     "metadata": {},
     "output_type": "execute_result"
    }
   ],
   "source": [
    "gz_file_path = os.path.join(gz_dir, gz_file_names[0])\n",
    "gz_file_path"
   ]
  },
  {
   "cell_type": "code",
   "execution_count": 15,
   "metadata": {},
   "outputs": [],
   "source": [
    "with gzip.open(gz_file_path, 'rb') as f_in:\n",
    "    df = pd.read_csv(f_in)"
   ]
  },
  {
   "cell_type": "code",
   "execution_count": 13,
   "metadata": {},
   "outputs": [
    {
     "data": {
      "text/html": [
       "<div>\n",
       "<style scoped>\n",
       "    .dataframe tbody tr th:only-of-type {\n",
       "        vertical-align: middle;\n",
       "    }\n",
       "\n",
       "    .dataframe tbody tr th {\n",
       "        vertical-align: top;\n",
       "    }\n",
       "\n",
       "    .dataframe thead th {\n",
       "        text-align: right;\n",
       "    }\n",
       "</style>\n",
       "<table border=\"1\" class=\"dataframe\">\n",
       "  <thead>\n",
       "    <tr style=\"text-align: right;\">\n",
       "      <th></th>\n",
       "      <th>EventID</th>\n",
       "      <th>EventType</th>\n",
       "      <th>StartDateTime</th>\n",
       "      <th>EndDateTime</th>\n",
       "      <th>EnteredOn</th>\n",
       "      <th>EventAgency</th>\n",
       "      <th>ParkingHeld</th>\n",
       "      <th>Borough</th>\n",
       "      <th>CommunityBoard(s)</th>\n",
       "      <th>PolicePrecinct(s)</th>\n",
       "      <th>Category</th>\n",
       "      <th>SubCategoryName</th>\n",
       "      <th>Country</th>\n",
       "      <th>ZipCode(s)</th>\n",
       "    </tr>\n",
       "  </thead>\n",
       "  <tbody>\n",
       "    <tr>\n",
       "      <th>0</th>\n",
       "      <td>446040</td>\n",
       "      <td>Shooting Permit</td>\n",
       "      <td>10/19/2018 02:00:00 PM</td>\n",
       "      <td>10/20/2018 04:00:00 AM</td>\n",
       "      <td>10/16/2018 11:57:27 AM</td>\n",
       "      <td>Mayor's Office of Film, Theatre &amp; Broadcasting</td>\n",
       "      <td>THOMPSON STREET between PRINCE STREET and SPRI...</td>\n",
       "      <td>Manhattan</td>\n",
       "      <td>2</td>\n",
       "      <td>1</td>\n",
       "      <td>Television</td>\n",
       "      <td>Cable-episodic</td>\n",
       "      <td>United States of America</td>\n",
       "      <td>10012</td>\n",
       "    </tr>\n",
       "    <tr>\n",
       "      <th>1</th>\n",
       "      <td>446168</td>\n",
       "      <td>Shooting Permit</td>\n",
       "      <td>10/19/2018 02:00:00 PM</td>\n",
       "      <td>10/20/2018 02:00:00 AM</td>\n",
       "      <td>10/16/2018 07:03:56 PM</td>\n",
       "      <td>Mayor's Office of Film, Theatre &amp; Broadcasting</td>\n",
       "      <td>MARBLE HILL AVENUE between WEST  227 STREET an...</td>\n",
       "      <td>Manhattan</td>\n",
       "      <td>12, 8</td>\n",
       "      <td>34, 50</td>\n",
       "      <td>Film</td>\n",
       "      <td>Feature</td>\n",
       "      <td>United States of America</td>\n",
       "      <td>10034, 10463</td>\n",
       "    </tr>\n",
       "  </tbody>\n",
       "</table>\n",
       "</div>"
      ],
      "text/plain": [
       "   EventID        EventType           StartDateTime             EndDateTime  \\\n",
       "0   446040  Shooting Permit  10/19/2018 02:00:00 PM  10/20/2018 04:00:00 AM   \n",
       "1   446168  Shooting Permit  10/19/2018 02:00:00 PM  10/20/2018 02:00:00 AM   \n",
       "\n",
       "                EnteredOn                                     EventAgency  \\\n",
       "0  10/16/2018 11:57:27 AM  Mayor's Office of Film, Theatre & Broadcasting   \n",
       "1  10/16/2018 07:03:56 PM  Mayor's Office of Film, Theatre & Broadcasting   \n",
       "\n",
       "                                         ParkingHeld    Borough  \\\n",
       "0  THOMPSON STREET between PRINCE STREET and SPRI...  Manhattan   \n",
       "1  MARBLE HILL AVENUE between WEST  227 STREET an...  Manhattan   \n",
       "\n",
       "  CommunityBoard(s) PolicePrecinct(s)    Category SubCategoryName  \\\n",
       "0                 2                 1  Television  Cable-episodic   \n",
       "1             12, 8            34, 50        Film         Feature   \n",
       "\n",
       "                    Country    ZipCode(s)  \n",
       "0  United States of America         10012  \n",
       "1  United States of America  10034, 10463  "
      ]
     },
     "execution_count": 13,
     "metadata": {},
     "output_type": "execute_result"
    }
   ],
   "source": [
    "df.head(2)"
   ]
  },
  {
   "cell_type": "markdown",
   "metadata": {},
   "source": [
    "# Unzipping gz files to file"
   ]
  },
  {
   "cell_type": "code",
   "execution_count": 17,
   "metadata": {},
   "outputs": [],
   "source": [
    "import shutil"
   ]
  },
  {
   "cell_type": "code",
   "execution_count": 24,
   "metadata": {},
   "outputs": [
    {
     "name": "stdout",
     "output_type": "stream",
     "text": [
      "gz_file_names: \n",
      "    ['NYC_Open_Data_Film_Permits_sample5k.csv.gz']\n",
      "gz_file_name: \n",
      "    NYC_Open_Data_Film_Permits_sample5k.csv.gz\n",
      "gz_file_path: \n",
      "    ../data_raw/compressed/gz/NYC_Open_Data_Film_Permits_sample5k.csv.gz\n",
      "output_data_file_name: \n",
      "    NYC_Open_Data_Film_Permits_sample5k.csv\n",
      "output_data_file_path: \n",
      "    ../data_raw/compressed/gz/NYC_Open_Data_Film_Permits_sample5k.csv\n"
     ]
    }
   ],
   "source": [
    "gz_dir = os.path.join(ROOT_DATA_DIR, \"compressed\", \"gz\")\n",
    "gz_file_names = os.listdir(gz_dir)\n",
    "print(f\"gz_file_names: \\n    {gz_file_names}\")\n",
    "gz_file_name = gz_file_names[0]\n",
    "print(f\"gz_file_name: \\n    {gz_file_name}\")\n",
    "gz_file_path = os.path.join(gz_dir, gz_file_name)\n",
    "print(f\"gz_file_path: \\n    {gz_file_path}\")\n",
    "output_data_file_name = \".\".join(gz_file_name.split(\".\")[:-1])\n",
    "print(f\"output_data_file_name: \\n    {output_data_file_name}\")\n",
    "output_data_file_path = os.path.join(gz_dir, output_data_file_name)\n",
    "print(f\"output_data_file_path: \\n    {output_data_file_path}\")"
   ]
  },
  {
   "cell_type": "code",
   "execution_count": 25,
   "metadata": {},
   "outputs": [],
   "source": [
    "with gzip.open(gz_file_path, 'rb') as f_in:\n",
    "    with open(output_data_file_path, 'wb') as f_out:\n",
    "        shutil.copyfileobj(f_in, f_out)"
   ]
  },
  {
   "cell_type": "code",
   "execution_count": 26,
   "metadata": {},
   "outputs": [
    {
     "data": {
      "text/plain": [
       "['NYC_Open_Data_Film_Permits_sample5k.csv',\n",
       " 'NYC_Open_Data_Film_Permits_sample5k.csv.gz']"
      ]
     },
     "execution_count": 26,
     "metadata": {},
     "output_type": "execute_result"
    }
   ],
   "source": [
    "os.listdir(gz_dir)"
   ]
  },
  {
   "cell_type": "code",
   "execution_count": null,
   "metadata": {},
   "outputs": [],
   "source": []
  },
  {
   "cell_type": "code",
   "execution_count": null,
   "metadata": {},
   "outputs": [],
   "source": []
  },
  {
   "cell_type": "code",
   "execution_count": null,
   "metadata": {},
   "outputs": [],
   "source": []
  },
  {
   "cell_type": "code",
   "execution_count": null,
   "metadata": {},
   "outputs": [],
   "source": []
  },
  {
   "cell_type": "code",
   "execution_count": null,
   "metadata": {},
   "outputs": [],
   "source": []
  },
  {
   "cell_type": "code",
   "execution_count": null,
   "metadata": {},
   "outputs": [],
   "source": []
  },
  {
   "cell_type": "code",
   "execution_count": null,
   "metadata": {},
   "outputs": [],
   "source": []
  },
  {
   "cell_type": "code",
   "execution_count": null,
   "metadata": {},
   "outputs": [],
   "source": []
  },
  {
   "cell_type": "code",
   "execution_count": null,
   "metadata": {},
   "outputs": [],
   "source": []
  },
  {
   "cell_type": "code",
   "execution_count": null,
   "metadata": {},
   "outputs": [],
   "source": []
  },
  {
   "cell_type": "code",
   "execution_count": null,
   "metadata": {},
   "outputs": [],
   "source": []
  },
  {
   "cell_type": "code",
   "execution_count": null,
   "metadata": {},
   "outputs": [],
   "source": []
  },
  {
   "cell_type": "code",
   "execution_count": null,
   "metadata": {},
   "outputs": [],
   "source": []
  },
  {
   "cell_type": "code",
   "execution_count": null,
   "metadata": {},
   "outputs": [],
   "source": []
  },
  {
   "cell_type": "code",
   "execution_count": null,
   "metadata": {},
   "outputs": [],
   "source": []
  },
  {
   "cell_type": "code",
   "execution_count": null,
   "metadata": {},
   "outputs": [],
   "source": []
  },
  {
   "cell_type": "code",
   "execution_count": null,
   "metadata": {},
   "outputs": [],
   "source": []
  },
  {
   "cell_type": "code",
   "execution_count": null,
   "metadata": {},
   "outputs": [],
   "source": []
  },
  {
   "cell_type": "code",
   "execution_count": null,
   "metadata": {},
   "outputs": [],
   "source": []
  },
  {
   "cell_type": "code",
   "execution_count": null,
   "metadata": {},
   "outputs": [],
   "source": []
  },
  {
   "cell_type": "code",
   "execution_count": null,
   "metadata": {},
   "outputs": [],
   "source": []
  },
  {
   "cell_type": "code",
   "execution_count": null,
   "metadata": {},
   "outputs": [],
   "source": []
  },
  {
   "cell_type": "code",
   "execution_count": null,
   "metadata": {},
   "outputs": [],
   "source": []
  },
  {
   "cell_type": "code",
   "execution_count": null,
   "metadata": {},
   "outputs": [],
   "source": []
  },
  {
   "cell_type": "code",
   "execution_count": null,
   "metadata": {},
   "outputs": [],
   "source": []
  },
  {
   "cell_type": "code",
   "execution_count": null,
   "metadata": {},
   "outputs": [],
   "source": []
  },
  {
   "cell_type": "code",
   "execution_count": null,
   "metadata": {},
   "outputs": [],
   "source": []
  },
  {
   "cell_type": "code",
   "execution_count": null,
   "metadata": {},
   "outputs": [],
   "source": []
  },
  {
   "cell_type": "code",
   "execution_count": null,
   "metadata": {},
   "outputs": [],
   "source": []
  },
  {
   "cell_type": "code",
   "execution_count": null,
   "metadata": {},
   "outputs": [],
   "source": []
  },
  {
   "cell_type": "code",
   "execution_count": null,
   "metadata": {},
   "outputs": [],
   "source": []
  },
  {
   "cell_type": "code",
   "execution_count": null,
   "metadata": {},
   "outputs": [],
   "source": []
  }
 ],
 "metadata": {
  "kernelspec": {
   "display_name": "Python (geo_env)",
   "language": "python",
   "name": "geo_env"
  },
  "language_info": {
   "codemirror_mode": {
    "name": "ipython",
    "version": 3
   },
   "file_extension": ".py",
   "mimetype": "text/x-python",
   "name": "python",
   "nbconvert_exporter": "python",
   "pygments_lexer": "ipython3",
   "version": "3.9.2"
  }
 },
 "nbformat": 4,
 "nbformat_minor": 4
}
