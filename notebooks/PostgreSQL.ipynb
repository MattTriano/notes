{
 "cells": [
  {
   "cell_type": "code",
   "execution_count": 3,
   "metadata": {},
   "outputs": [],
   "source": [
    "import os\n",
    "import pandas as pd\n",
    "import numpy as np\n",
    "import matplotlib.pyplot as plt\n",
    "import seaborn as sns\n",
    "from urllib.request import urlretrieve\n",
    "from IPython.core.display import display, HTML\n",
    "%matplotlib inline"
   ]
  },
  {
   "cell_type": "code",
   "execution_count": 3,
   "metadata": {},
   "outputs": [],
   "source": [
    "# from cryptography.hazmat.backends import default_backend\n",
    "# from cryptography.hazmat.primitives import hashes\n",
    "# from cryptography.hazmat.primitives.asymmetric import rsa, padding"
   ]
  },
  {
   "cell_type": "code",
   "execution_count": 2,
   "metadata": {},
   "outputs": [
    {
     "data": {
      "text/html": [
       "<style>.container { width:100% !important; }</style>"
      ],
      "text/plain": [
       "<IPython.core.display.HTML object>"
      ]
     },
     "metadata": {},
     "output_type": "display_data"
    }
   ],
   "source": [
    "pd.options.display.max_columns = None\n",
    "display(HTML(\"<style>.container { width:100% !important; }</style>\"))"
   ]
  },
  {
   "cell_type": "markdown",
   "metadata": {},
   "source": [
    "# SQL"
   ]
  },
  {
   "cell_type": "markdown",
   "metadata": {},
   "source": [
    "## How to identify the type of SQL DB you're working with\n",
    "\n",
    "**Quotation marks**\n",
    "* **Single Quotes Only**\n",
    "    * SQL Server\n",
    "    * PostgreSQL\n",
    "<!--     * Oracle -->\n",
    "* **Single or Double Quotes**\n",
    "    * MySQL\n",
    "    * Sqlite\n",
    "    \n",
    "**Aliases**\n",
    "* **equals sign (=)**\n",
    "    * SQL Server\n",
    "* **AS**\n",
    "    * MySQL\n",
    "    * PostgreSQL\n",
    "    * SQlite"
   ]
  },
  {
   "cell_type": "code",
   "execution_count": null,
   "metadata": {},
   "outputs": [],
   "source": []
  },
  {
   "cell_type": "markdown",
   "metadata": {},
   "source": [
    "# Postgres and PostGIS Queries"
   ]
  },
  {
   "cell_type": "markdown",
   "metadata": {},
   "source": [
    "## How to connect to a postgres server\n",
    "\n",
    "Note: there are many session settings, but so far I've only found it necessary to set `autocommit=True` so inserts, alterations, etc are automatically applied. \n",
    "\n",
    "```python\n",
    "conn = psycopg2.connect(\n",
    "    dbname=\"postgres\",\n",
    "    user=os.environ[\"DC_POSTGRESQL_USER\"],\n",
    "    password=os.environ[\"DC_POSTGRESQL_PASSWORD\"],\n",
    "    port=os.environ[\"DC_POSTGRESQL_PORT\"],\n",
    "    host=\"matt\",\n",
    ")\n",
    "conn.set_session(autocommit=True)\n",
    "cur = conn.cursor()\n",
    "```"
   ]
  },
  {
   "cell_type": "markdown",
   "metadata": {},
   "source": [
    "## How to close a connection to a postgres server\n",
    "\n",
    "```python\n",
    "cur.close()\n",
    "conn.close()\n",
    "```"
   ]
  },
  {
   "cell_type": "markdown",
   "metadata": {},
   "source": [
    "## How to see all tables\n",
    "\n",
    "```python\n",
    "query = \"\"\"\n",
    "SELECT table_name \n",
    "FROM information_schema.tables\n",
    "WHERE table_schema = 'public';\n",
    "\"\"\"\n",
    "\n",
    "cur.execute(query)\n",
    "cur.fetchall()\n",
    "```"
   ]
  },
  {
   "cell_type": "markdown",
   "metadata": {},
   "source": [
    "## How to see the features (and corresponding data types) of a table\n",
    "\n",
    "```python\n",
    "query = \"\"\"\n",
    "-- Change the type of firstname\n",
    "SELECT column_name, data_type from information_schema.columns\n",
    "WHERE table_name = 'professors'\n",
    "\"\"\"\n",
    "\n",
    "cur.execute(query)\n",
    "cur.fetchall()\n",
    "```"
   ]
  },
  {
   "cell_type": "markdown",
   "metadata": {},
   "source": [
    "## How to see database indexes\n",
    "\n",
    "```python\n",
    "query = \"\"\"\n",
    "SELECT *\n",
    "FROM pg_catalog.pg_indexes;\n",
    "\"\"\"\n",
    "\n",
    "cur.execute(query)\n",
    "cur.fetchall()\n",
    "```"
   ]
  },
  {
   "cell_type": "markdown",
   "metadata": {},
   "source": [
    "# Information schema\n",
    "\n",
    "\n",
    "    INFORMATION_SCHEMA.SCHEMATA\n",
    "    INFORMATION_SCHEMA.TABLES\n",
    "    INFORMATION_SCHEMA.COLUMNS\n",
    "    INFORMATION_SCHEMA.STATISTICS\n",
    "    INFORMATION_SCHEMA.USER_PRIVILEGES\n",
    "    INFORMATION_SCHEMA.SCHEMA_PRIVILEGES\n",
    "    INFORMATION_SCHEMA.TABLE_PRIVILEGES\n",
    "    INFORMATION_SCHEMA.COLUMN_PRIVILEGES\n",
    "    INFORMATION_SCHEMA.CHARACTER_SETS\n",
    "    INFORMATION_SCHEMA.COLLATIONS\n",
    "    INFORMATION_SCHEMA.COLLATION_CHARACTER_SET_APPLICABILITY\n",
    "    INFORMATION_SCHEMA.TABLE_CONSTRAINTS\n",
    "    INFORMATION_SCHEMA.KEY_COLUMN_USAGE\n",
    "    INFORMATION_SCHEMA.ROUTINES\n",
    "    INFORMATION_SCHEMA.VIEWS\n",
    "    INFORMATION_SCHEMA.TRIGGERS\n",
    "    INFORMATION_SCHEMA.PROFILING\n"
   ]
  },
  {
   "cell_type": "markdown",
   "metadata": {},
   "source": [
    "## How to see information_schema.tables info\n",
    "\n",
    "```python\n",
    "query = \"\"\"\n",
    "SELECT *\n",
    "FROM information_schema.tables;\n",
    "\"\"\"\n",
    "\n",
    "cur.execute(query)\n",
    "vals = cur.fetchall()\n",
    "\n",
    "df = pd.DataFrame(vals)\n",
    "col_map = {\n",
    "    0: \"TABLE_CATALOG\",\n",
    "    1: \"TABLE_SCHEMA\",\n",
    "    2: \"TABLE_NAME\",\n",
    "    3: \"TABLE_TYPE\",\n",
    "    4: \"SELF_REFERENCING_COLUMN_NAME\",\n",
    "    5: \"REFERENCE_GENERATION\",\n",
    "    6: \"USER_DEFINED_TYPE_CATALOG\",\n",
    "    7: \"USER_DEFINED_TYPE_SCHEMA\",\n",
    "    8: \"USER_DEFINED_TYPE_NAME\",\n",
    "    9: \"IS_INSERTABLE_INTO\",\n",
    "    10: \"IS_TYPED\",\n",
    "    11: \"COMMIT_ACTION\",\n",
    "}\n",
    "\n",
    "df = df.rename(columns=col_map)\n",
    "```"
   ]
  },
  {
   "cell_type": "markdown",
   "metadata": {},
   "source": [
    "## How to see information_schema.columns info\n",
    "\n",
    "```python\n",
    "query = \"\"\"\n",
    "SELECT *\n",
    "FROM information_schema.columns;\n",
    "\"\"\"\n",
    "\n",
    "cur.execute(query)\n",
    "df = pd.DataFrame(cur.fetchall())\n",
    "col_map = {el[0]: el[1] for el in enumerate(info_schema_columns)}\n",
    "df = df.rename(columns=col_map)\n",
    "```"
   ]
  },
  {
   "cell_type": "markdown",
   "metadata": {},
   "source": [
    "## How to see database indexes\n",
    "\n",
    "```python\n",
    "query = \"\"\"\n",
    "SELECT *\n",
    "FROM pg_catalog.pg_indexes;\n",
    "\"\"\"\n",
    "\n",
    "cur.execute(query)\n",
    "cur.fetchall()\n",
    "```"
   ]
  },
  {
   "cell_type": "markdown",
   "metadata": {},
   "source": [
    "# How to see table constraints\n",
    "\n",
    "```sql\n",
    "SELECT *\n",
    "FROM pg_catalog.pg_constraint;\n",
    "```"
   ]
  },
  {
   "cell_type": "markdown",
   "metadata": {},
   "source": [
    "# How to see what's in a postgres database's namespace\n",
    "\n",
    "```sql\n",
    "SELECT *\n",
    "FROM pg_catalog.pg_namespace;\n",
    "```"
   ]
  },
  {
   "cell_type": "markdown",
   "metadata": {},
   "source": [
    "# How to see all columns in public tables\n",
    "\n",
    "```sql\n",
    "SELECT *\n",
    "FROM information_schema.columns\n",
    "WHERE table_schema = 'public';\n",
    "```"
   ]
  },
  {
   "cell_type": "code",
   "execution_count": null,
   "metadata": {},
   "outputs": [],
   "source": []
  },
  {
   "cell_type": "markdown",
   "metadata": {},
   "source": [
    "# Function to create table from info_schema\n",
    "\n",
    "```sql\n",
    "SELECT column_name, data_type from information_schema.columns\n",
    "WHERE table_name = 'parking_violation';\n",
    "```\n",
    "\n",
    "returned a table that I copied (via developer tools)"
   ]
  },
  {
   "cell_type": "code",
   "execution_count": 5,
   "metadata": {},
   "outputs": [
    {
     "data": {
      "text/html": [
       "<div>\n",
       "<style scoped>\n",
       "    .dataframe tbody tr th:only-of-type {\n",
       "        vertical-align: middle;\n",
       "    }\n",
       "\n",
       "    .dataframe tbody tr th {\n",
       "        vertical-align: top;\n",
       "    }\n",
       "\n",
       "    .dataframe thead th {\n",
       "        text-align: right;\n",
       "    }\n",
       "</style>\n",
       "<table border=\"1\" class=\"dataframe\">\n",
       "  <thead>\n",
       "    <tr style=\"text-align: right;\">\n",
       "      <th></th>\n",
       "      <th>table_catalog</th>\n",
       "      <th>table_schema</th>\n",
       "      <th>table_name</th>\n",
       "      <th>column_name</th>\n",
       "      <th>ordinal_position</th>\n",
       "      <th>column_default</th>\n",
       "      <th>is_nullable</th>\n",
       "      <th>data_type</th>\n",
       "      <th>character_maximum_length</th>\n",
       "      <th>character_octet_length</th>\n",
       "      <th>...</th>\n",
       "      <th>is_identity</th>\n",
       "      <th>identity_generation</th>\n",
       "      <th>identity_start</th>\n",
       "      <th>identity_increment</th>\n",
       "      <th>identity_maximum</th>\n",
       "      <th>identity_minimum</th>\n",
       "      <th>identity_cycle</th>\n",
       "      <th>is_generated</th>\n",
       "      <th>generation_expression</th>\n",
       "      <th>is_updatable</th>\n",
       "    </tr>\n",
       "  </thead>\n",
       "  <tbody>\n",
       "    <tr>\n",
       "      <th>0</th>\n",
       "      <td>cleaning_postgresql</td>\n",
       "      <td>public</td>\n",
       "      <td>parking_violation</td>\n",
       "      <td>summons_number</td>\n",
       "      <td>1</td>\n",
       "      <td>NaN</td>\n",
       "      <td>YES</td>\n",
       "      <td>text</td>\n",
       "      <td>NaN</td>\n",
       "      <td>1073741824</td>\n",
       "      <td>...</td>\n",
       "      <td>NO</td>\n",
       "      <td>NaN</td>\n",
       "      <td>NaN</td>\n",
       "      <td>NaN</td>\n",
       "      <td>NaN</td>\n",
       "      <td>NaN</td>\n",
       "      <td>NO</td>\n",
       "      <td>NEVER</td>\n",
       "      <td>NaN</td>\n",
       "      <td>YES</td>\n",
       "    </tr>\n",
       "    <tr>\n",
       "      <th>1</th>\n",
       "      <td>cleaning_postgresql</td>\n",
       "      <td>public</td>\n",
       "      <td>parking_violation</td>\n",
       "      <td>plate_id</td>\n",
       "      <td>2</td>\n",
       "      <td>NaN</td>\n",
       "      <td>YES</td>\n",
       "      <td>text</td>\n",
       "      <td>NaN</td>\n",
       "      <td>1073741824</td>\n",
       "      <td>...</td>\n",
       "      <td>NO</td>\n",
       "      <td>NaN</td>\n",
       "      <td>NaN</td>\n",
       "      <td>NaN</td>\n",
       "      <td>NaN</td>\n",
       "      <td>NaN</td>\n",
       "      <td>NO</td>\n",
       "      <td>NEVER</td>\n",
       "      <td>NaN</td>\n",
       "      <td>YES</td>\n",
       "    </tr>\n",
       "  </tbody>\n",
       "</table>\n",
       "<p>2 rows × 44 columns</p>\n",
       "</div>"
      ],
      "text/plain": [
       "         table_catalog table_schema         table_name     column_name  \\\n",
       "0  cleaning_postgresql       public  parking_violation  summons_number   \n",
       "1  cleaning_postgresql       public  parking_violation        plate_id   \n",
       "\n",
       "   ordinal_position  column_default is_nullable data_type  \\\n",
       "0                 1             NaN         YES      text   \n",
       "1                 2             NaN         YES      text   \n",
       "\n",
       "   character_maximum_length  character_octet_length  ...  is_identity  \\\n",
       "0                       NaN              1073741824  ...           NO   \n",
       "1                       NaN              1073741824  ...           NO   \n",
       "\n",
       "   identity_generation  identity_start  identity_increment  identity_maximum  \\\n",
       "0                  NaN             NaN                 NaN               NaN   \n",
       "1                  NaN             NaN                 NaN               NaN   \n",
       "\n",
       "   identity_minimum  identity_cycle  is_generated  generation_expression  \\\n",
       "0               NaN              NO         NEVER                    NaN   \n",
       "1               NaN              NO         NEVER                    NaN   \n",
       "\n",
       "   is_updatable  \n",
       "0           YES  \n",
       "1           YES  \n",
       "\n",
       "[2 rows x 44 columns]"
      ]
     },
     "execution_count": 5,
     "metadata": {},
     "output_type": "execute_result"
    }
   ],
   "source": [
    "\n",
    "table_detail_str = \"\"\"<table class=\"table table-condensed table-bordered table-hover table-striped\"><thead><tr><th>table_catalog</th><th>table_schema</th><th>table_name</th><th>column_name</th><th>ordinal_position</th><th>column_default</th><th>is_nullable</th><th>data_type</th><th>character_maximum_length</th><th>character_octet_length</th><th>numeric_precision</th><th>numeric_precision_radix</th><th>numeric_scale</th><th>datetime_precision</th><th>interval_type</th><th>interval_precision</th><th>character_set_catalog</th><th>character_set_schema</th><th>character_set_name</th><th>collation_catalog</th><th>collation_schema</th><th>collation_name</th><th>domain_catalog</th><th>domain_schema</th><th>domain_name</th><th>udt_catalog</th><th>udt_schema</th><th>udt_name</th><th>scope_catalog</th><th>scope_schema</th><th>scope_name</th><th>maximum_cardinality</th><th>dtd_identifier</th><th>is_self_referencing</th><th>is_identity</th><th>identity_generation</th><th>identity_start</th><th>identity_increment</th><th>identity_maximum</th><th>identity_minimum</th><th>identity_cycle</th><th>is_generated</th><th>generation_expression</th><th>is_updatable</th></tr></thead><tbody><tr><td>cleaning_postgresql</td><td>public</td><td>parking_violation</td><td>summons_number</td><td>1</td><td>null</td><td>YES</td><td>text</td><td>null</td><td>1073741824</td><td>null</td><td>null</td><td>null</td><td>null</td><td>null</td><td>null</td><td>null</td><td>null</td><td>null</td><td>null</td><td>null</td><td>null</td><td>null</td><td>null</td><td>null</td><td>cleaning_postgresql</td><td>pg_catalog</td><td>text</td><td>null</td><td>null</td><td>null</td><td>null</td><td>1</td><td>NO</td><td>NO</td><td>null</td><td>null</td><td>null</td><td>null</td><td>null</td><td>NO</td><td>NEVER</td><td>null</td><td>YES</td></tr><tr><td>cleaning_postgresql</td><td>public</td><td>parking_violation</td><td>plate_id</td><td>2</td><td>null</td><td>YES</td><td>text</td><td>null</td><td>1073741824</td><td>null</td><td>null</td><td>null</td><td>null</td><td>null</td><td>null</td><td>null</td><td>null</td><td>null</td><td>null</td><td>null</td><td>null</td><td>null</td><td>null</td><td>null</td><td>cleaning_postgresql</td><td>pg_catalog</td><td>text</td><td>null</td><td>null</td><td>null</td><td>null</td><td>2</td><td>NO</td><td>NO</td><td>null</td><td>null</td><td>null</td><td>null</td><td>null</td><td>NO</td><td>NEVER</td><td>null</td><td>YES</td></tr><tr><td>cleaning_postgresql</td><td>public</td><td>parking_violation</td><td>registration_state</td><td>3</td><td>null</td><td>YES</td><td>text</td><td>null</td><td>1073741824</td><td>null</td><td>null</td><td>null</td><td>null</td><td>null</td><td>null</td><td>null</td><td>null</td><td>null</td><td>null</td><td>null</td><td>null</td><td>null</td><td>null</td><td>null</td><td>cleaning_postgresql</td><td>pg_catalog</td><td>text</td><td>null</td><td>null</td><td>null</td><td>null</td><td>3</td><td>NO</td><td>NO</td><td>null</td><td>null</td><td>null</td><td>null</td><td>null</td><td>NO</td><td>NEVER</td><td>null</td><td>YES</td></tr><tr><td>cleaning_postgresql</td><td>public</td><td>parking_violation</td><td>plate_type</td><td>4</td><td>null</td><td>YES</td><td>text</td><td>null</td><td>1073741824</td><td>null</td><td>null</td><td>null</td><td>null</td><td>null</td><td>null</td><td>null</td><td>null</td><td>null</td><td>null</td><td>null</td><td>null</td><td>null</td><td>null</td><td>null</td><td>cleaning_postgresql</td><td>pg_catalog</td><td>text</td><td>null</td><td>null</td><td>null</td><td>null</td><td>4</td><td>NO</td><td>NO</td><td>null</td><td>null</td><td>null</td><td>null</td><td>null</td><td>NO</td><td>NEVER</td><td>null</td><td>YES</td></tr><tr><td>cleaning_postgresql</td><td>public</td><td>parking_violation</td><td>issue_date</td><td>5</td><td>null</td><td>YES</td><td>text</td><td>null</td><td>1073741824</td><td>null</td><td>null</td><td>null</td><td>null</td><td>null</td><td>null</td><td>null</td><td>null</td><td>null</td><td>null</td><td>null</td><td>null</td><td>null</td><td>null</td><td>null</td><td>cleaning_postgresql</td><td>pg_catalog</td><td>text</td><td>null</td><td>null</td><td>null</td><td>null</td><td>5</td><td>NO</td><td>NO</td><td>null</td><td>null</td><td>null</td><td>null</td><td>null</td><td>NO</td><td>NEVER</td><td>null</td><td>YES</td></tr><tr><td>cleaning_postgresql</td><td>public</td><td>parking_violation</td><td>violation_code</td><td>6</td><td>null</td><td>YES</td><td>text</td><td>null</td><td>1073741824</td><td>null</td><td>null</td><td>null</td><td>null</td><td>null</td><td>null</td><td>null</td><td>null</td><td>null</td><td>null</td><td>null</td><td>null</td><td>null</td><td>null</td><td>null</td><td>cleaning_postgresql</td><td>pg_catalog</td><td>text</td><td>null</td><td>null</td><td>null</td><td>null</td><td>6</td><td>NO</td><td>NO</td><td>null</td><td>null</td><td>null</td><td>null</td><td>null</td><td>NO</td><td>NEVER</td><td>null</td><td>YES</td></tr><tr><td>cleaning_postgresql</td><td>public</td><td>parking_violation</td><td>vehicle_body_type</td><td>7</td><td>null</td><td>YES</td><td>text</td><td>null</td><td>1073741824</td><td>null</td><td>null</td><td>null</td><td>null</td><td>null</td><td>null</td><td>null</td><td>null</td><td>null</td><td>null</td><td>null</td><td>null</td><td>null</td><td>null</td><td>null</td><td>cleaning_postgresql</td><td>pg_catalog</td><td>text</td><td>null</td><td>null</td><td>null</td><td>null</td><td>7</td><td>NO</td><td>NO</td><td>null</td><td>null</td><td>null</td><td>null</td><td>null</td><td>NO</td><td>NEVER</td><td>null</td><td>YES</td></tr><tr><td>cleaning_postgresql</td><td>public</td><td>parking_violation</td><td>vehicle_make</td><td>8</td><td>null</td><td>YES</td><td>text</td><td>null</td><td>1073741824</td><td>null</td><td>null</td><td>null</td><td>null</td><td>null</td><td>null</td><td>null</td><td>null</td><td>null</td><td>null</td><td>null</td><td>null</td><td>null</td><td>null</td><td>null</td><td>cleaning_postgresql</td><td>pg_catalog</td><td>text</td><td>null</td><td>null</td><td>null</td><td>null</td><td>8</td><td>NO</td><td>NO</td><td>null</td><td>null</td><td>null</td><td>null</td><td>null</td><td>NO</td><td>NEVER</td><td>null</td><td>YES</td></tr><tr><td>cleaning_postgresql</td><td>public</td><td>parking_violation</td><td>issuing_agency</td><td>9</td><td>null</td><td>YES</td><td>text</td><td>null</td><td>1073741824</td><td>null</td><td>null</td><td>null</td><td>null</td><td>null</td><td>null</td><td>null</td><td>null</td><td>null</td><td>null</td><td>null</td><td>null</td><td>null</td><td>null</td><td>null</td><td>cleaning_postgresql</td><td>pg_catalog</td><td>text</td><td>null</td><td>null</td><td>null</td><td>null</td><td>9</td><td>NO</td><td>NO</td><td>null</td><td>null</td><td>null</td><td>null</td><td>null</td><td>NO</td><td>NEVER</td><td>null</td><td>YES</td></tr><tr><td>cleaning_postgresql</td><td>public</td><td>parking_violation</td><td>street_code1</td><td>10</td><td>null</td><td>YES</td><td>text</td><td>null</td><td>1073741824</td><td>null</td><td>null</td><td>null</td><td>null</td><td>null</td><td>null</td><td>null</td><td>null</td><td>null</td><td>null</td><td>null</td><td>null</td><td>null</td><td>null</td><td>null</td><td>cleaning_postgresql</td><td>pg_catalog</td><td>text</td><td>null</td><td>null</td><td>null</td><td>null</td><td>10</td><td>NO</td><td>NO</td><td>null</td><td>null</td><td>null</td><td>null</td><td>null</td><td>NO</td><td>NEVER</td><td>null</td><td>YES</td></tr><tr><td>cleaning_postgresql</td><td>public</td><td>parking_violation</td><td>street_code2</td><td>11</td><td>null</td><td>YES</td><td>text</td><td>null</td><td>1073741824</td><td>null</td><td>null</td><td>null</td><td>null</td><td>null</td><td>null</td><td>null</td><td>null</td><td>null</td><td>null</td><td>null</td><td>null</td><td>null</td><td>null</td><td>null</td><td>cleaning_postgresql</td><td>pg_catalog</td><td>text</td><td>null</td><td>null</td><td>null</td><td>null</td><td>11</td><td>NO</td><td>NO</td><td>null</td><td>null</td><td>null</td><td>null</td><td>null</td><td>NO</td><td>NEVER</td><td>null</td><td>YES</td></tr><tr><td>cleaning_postgresql</td><td>public</td><td>parking_violation</td><td>street_code3</td><td>12</td><td>null</td><td>YES</td><td>text</td><td>null</td><td>1073741824</td><td>null</td><td>null</td><td>null</td><td>null</td><td>null</td><td>null</td><td>null</td><td>null</td><td>null</td><td>null</td><td>null</td><td>null</td><td>null</td><td>null</td><td>null</td><td>cleaning_postgresql</td><td>pg_catalog</td><td>text</td><td>null</td><td>null</td><td>null</td><td>null</td><td>12</td><td>NO</td><td>NO</td><td>null</td><td>null</td><td>null</td><td>null</td><td>null</td><td>NO</td><td>NEVER</td><td>null</td><td>YES</td></tr><tr><td>cleaning_postgresql</td><td>public</td><td>parking_violation</td><td>vehicle_expiration_date</td><td>13</td><td>null</td><td>YES</td><td>text</td><td>null</td><td>1073741824</td><td>null</td><td>null</td><td>null</td><td>null</td><td>null</td><td>null</td><td>null</td><td>null</td><td>null</td><td>null</td><td>null</td><td>null</td><td>null</td><td>null</td><td>null</td><td>cleaning_postgresql</td><td>pg_catalog</td><td>text</td><td>null</td><td>null</td><td>null</td><td>null</td><td>13</td><td>NO</td><td>NO</td><td>null</td><td>null</td><td>null</td><td>null</td><td>null</td><td>NO</td><td>NEVER</td><td>null</td><td>YES</td></tr><tr><td>cleaning_postgresql</td><td>public</td><td>parking_violation</td><td>violation_location</td><td>14</td><td>null</td><td>YES</td><td>text</td><td>null</td><td>1073741824</td><td>null</td><td>null</td><td>null</td><td>null</td><td>null</td><td>null</td><td>null</td><td>null</td><td>null</td><td>null</td><td>null</td><td>null</td><td>null</td><td>null</td><td>null</td><td>cleaning_postgresql</td><td>pg_catalog</td><td>text</td><td>null</td><td>null</td><td>null</td><td>null</td><td>14</td><td>NO</td><td>NO</td><td>null</td><td>null</td><td>null</td><td>null</td><td>null</td><td>NO</td><td>NEVER</td><td>null</td><td>YES</td></tr><tr><td>cleaning_postgresql</td><td>public</td><td>parking_violation</td><td>violation_precinct</td><td>15</td><td>null</td><td>YES</td><td>text</td><td>null</td><td>1073741824</td><td>null</td><td>null</td><td>null</td><td>null</td><td>null</td><td>null</td><td>null</td><td>null</td><td>null</td><td>null</td><td>null</td><td>null</td><td>null</td><td>null</td><td>null</td><td>cleaning_postgresql</td><td>pg_catalog</td><td>text</td><td>null</td><td>null</td><td>null</td><td>null</td><td>15</td><td>NO</td><td>NO</td><td>null</td><td>null</td><td>null</td><td>null</td><td>null</td><td>NO</td><td>NEVER</td><td>null</td><td>YES</td></tr><tr><td>cleaning_postgresql</td><td>public</td><td>parking_violation</td><td>issuer_precint</td><td>16</td><td>null</td><td>YES</td><td>text</td><td>null</td><td>1073741824</td><td>null</td><td>null</td><td>null</td><td>null</td><td>null</td><td>null</td><td>null</td><td>null</td><td>null</td><td>null</td><td>null</td><td>null</td><td>null</td><td>null</td><td>null</td><td>cleaning_postgresql</td><td>pg_catalog</td><td>text</td><td>null</td><td>null</td><td>null</td><td>null</td><td>16</td><td>NO</td><td>NO</td><td>null</td><td>null</td><td>null</td><td>null</td><td>null</td><td>NO</td><td>NEVER</td><td>null</td><td>YES</td></tr><tr><td>cleaning_postgresql</td><td>public</td><td>parking_violation</td><td>issuer_code</td><td>17</td><td>null</td><td>YES</td><td>text</td><td>null</td><td>1073741824</td><td>null</td><td>null</td><td>null</td><td>null</td><td>null</td><td>null</td><td>null</td><td>null</td><td>null</td><td>null</td><td>null</td><td>null</td><td>null</td><td>null</td><td>null</td><td>cleaning_postgresql</td><td>pg_catalog</td><td>text</td><td>null</td><td>null</td><td>null</td><td>null</td><td>17</td><td>NO</td><td>NO</td><td>null</td><td>null</td><td>null</td><td>null</td><td>null</td><td>NO</td><td>NEVER</td><td>null</td><td>YES</td></tr><tr><td>cleaning_postgresql</td><td>public</td><td>parking_violation</td><td>issuer_command</td><td>18</td><td>null</td><td>YES</td><td>text</td><td>null</td><td>1073741824</td><td>null</td><td>null</td><td>null</td><td>null</td><td>null</td><td>null</td><td>null</td><td>null</td><td>null</td><td>null</td><td>null</td><td>null</td><td>null</td><td>null</td><td>null</td><td>cleaning_postgresql</td><td>pg_catalog</td><td>text</td><td>null</td><td>null</td><td>null</td><td>null</td><td>18</td><td>NO</td><td>NO</td><td>null</td><td>null</td><td>null</td><td>null</td><td>null</td><td>NO</td><td>NEVER</td><td>null</td><td>YES</td></tr><tr><td>cleaning_postgresql</td><td>public</td><td>parking_violation</td><td>issuer_squad</td><td>19</td><td>null</td><td>YES</td><td>text</td><td>null</td><td>1073741824</td><td>null</td><td>null</td><td>null</td><td>null</td><td>null</td><td>null</td><td>null</td><td>null</td><td>null</td><td>null</td><td>null</td><td>null</td><td>null</td><td>null</td><td>null</td><td>cleaning_postgresql</td><td>pg_catalog</td><td>text</td><td>null</td><td>null</td><td>null</td><td>null</td><td>19</td><td>NO</td><td>NO</td><td>null</td><td>null</td><td>null</td><td>null</td><td>null</td><td>NO</td><td>NEVER</td><td>null</td><td>YES</td></tr><tr><td>cleaning_postgresql</td><td>public</td><td>parking_violation</td><td>violation_time</td><td>20</td><td>null</td><td>YES</td><td>text</td><td>null</td><td>1073741824</td><td>null</td><td>null</td><td>null</td><td>null</td><td>null</td><td>null</td><td>null</td><td>null</td><td>null</td><td>null</td><td>null</td><td>null</td><td>null</td><td>null</td><td>null</td><td>cleaning_postgresql</td><td>pg_catalog</td><td>text</td><td>null</td><td>null</td><td>null</td><td>null</td><td>20</td><td>NO</td><td>NO</td><td>null</td><td>null</td><td>null</td><td>null</td><td>null</td><td>NO</td><td>NEVER</td><td>null</td><td>YES</td></tr><tr><td>cleaning_postgresql</td><td>public</td><td>parking_violation</td><td>time_first_observed</td><td>21</td><td>null</td><td>YES</td><td>text</td><td>null</td><td>1073741824</td><td>null</td><td>null</td><td>null</td><td>null</td><td>null</td><td>null</td><td>null</td><td>null</td><td>null</td><td>null</td><td>null</td><td>null</td><td>null</td><td>null</td><td>null</td><td>cleaning_postgresql</td><td>pg_catalog</td><td>text</td><td>null</td><td>null</td><td>null</td><td>null</td><td>21</td><td>NO</td><td>NO</td><td>null</td><td>null</td><td>null</td><td>null</td><td>null</td><td>NO</td><td>NEVER</td><td>null</td><td>YES</td></tr><tr><td>cleaning_postgresql</td><td>public</td><td>parking_violation</td><td>violation_county</td><td>22</td><td>null</td><td>YES</td><td>text</td><td>null</td><td>1073741824</td><td>null</td><td>null</td><td>null</td><td>null</td><td>null</td><td>null</td><td>null</td><td>null</td><td>null</td><td>null</td><td>null</td><td>null</td><td>null</td><td>null</td><td>null</td><td>cleaning_postgresql</td><td>pg_catalog</td><td>text</td><td>null</td><td>null</td><td>null</td><td>null</td><td>22</td><td>NO</td><td>NO</td><td>null</td><td>null</td><td>null</td><td>null</td><td>null</td><td>NO</td><td>NEVER</td><td>null</td><td>YES</td></tr><tr><td>cleaning_postgresql</td><td>public</td><td>parking_violation</td><td>violation_in_front_of_or_opposite</td><td>23</td><td>null</td><td>YES</td><td>text</td><td>null</td><td>1073741824</td><td>null</td><td>null</td><td>null</td><td>null</td><td>null</td><td>null</td><td>null</td><td>null</td><td>null</td><td>null</td><td>null</td><td>null</td><td>null</td><td>null</td><td>null</td><td>cleaning_postgresql</td><td>pg_catalog</td><td>text</td><td>null</td><td>null</td><td>null</td><td>null</td><td>23</td><td>NO</td><td>NO</td><td>null</td><td>null</td><td>null</td><td>null</td><td>null</td><td>NO</td><td>NEVER</td><td>null</td><td>YES</td></tr><tr><td>cleaning_postgresql</td><td>public</td><td>parking_violation</td><td>house_number</td><td>24</td><td>null</td><td>YES</td><td>text</td><td>null</td><td>1073741824</td><td>null</td><td>null</td><td>null</td><td>null</td><td>null</td><td>null</td><td>null</td><td>null</td><td>null</td><td>null</td><td>null</td><td>null</td><td>null</td><td>null</td><td>null</td><td>cleaning_postgresql</td><td>pg_catalog</td><td>text</td><td>null</td><td>null</td><td>null</td><td>null</td><td>24</td><td>NO</td><td>NO</td><td>null</td><td>null</td><td>null</td><td>null</td><td>null</td><td>NO</td><td>NEVER</td><td>null</td><td>YES</td></tr><tr><td>cleaning_postgresql</td><td>public</td><td>parking_violation</td><td>street_name</td><td>25</td><td>null</td><td>YES</td><td>text</td><td>null</td><td>1073741824</td><td>null</td><td>null</td><td>null</td><td>null</td><td>null</td><td>null</td><td>null</td><td>null</td><td>null</td><td>null</td><td>null</td><td>null</td><td>null</td><td>null</td><td>null</td><td>cleaning_postgresql</td><td>pg_catalog</td><td>text</td><td>null</td><td>null</td><td>null</td><td>null</td><td>25</td><td>NO</td><td>NO</td><td>null</td><td>null</td><td>null</td><td>null</td><td>null</td><td>NO</td><td>NEVER</td><td>null</td><td>YES</td></tr><tr><td>cleaning_postgresql</td><td>public</td><td>parking_violation</td><td>intersecting_street</td><td>26</td><td>null</td><td>YES</td><td>text</td><td>null</td><td>1073741824</td><td>null</td><td>null</td><td>null</td><td>null</td><td>null</td><td>null</td><td>null</td><td>null</td><td>null</td><td>null</td><td>null</td><td>null</td><td>null</td><td>null</td><td>null</td><td>cleaning_postgresql</td><td>pg_catalog</td><td>text</td><td>null</td><td>null</td><td>null</td><td>null</td><td>26</td><td>NO</td><td>NO</td><td>null</td><td>null</td><td>null</td><td>null</td><td>null</td><td>NO</td><td>NEVER</td><td>null</td><td>YES</td></tr><tr><td>cleaning_postgresql</td><td>public</td><td>parking_violation</td><td>date_first_observed</td><td>27</td><td>null</td><td>YES</td><td>text</td><td>null</td><td>1073741824</td><td>null</td><td>null</td><td>null</td><td>null</td><td>null</td><td>null</td><td>null</td><td>null</td><td>null</td><td>null</td><td>null</td><td>null</td><td>null</td><td>null</td><td>null</td><td>cleaning_postgresql</td><td>pg_catalog</td><td>text</td><td>null</td><td>null</td><td>null</td><td>null</td><td>27</td><td>NO</td><td>NO</td><td>null</td><td>null</td><td>null</td><td>null</td><td>null</td><td>NO</td><td>NEVER</td><td>null</td><td>YES</td></tr><tr><td>cleaning_postgresql</td><td>public</td><td>parking_violation</td><td>law_section</td><td>28</td><td>null</td><td>YES</td><td>text</td><td>null</td><td>1073741824</td><td>null</td><td>null</td><td>null</td><td>null</td><td>null</td><td>null</td><td>null</td><td>null</td><td>null</td><td>null</td><td>null</td><td>null</td><td>null</td><td>null</td><td>null</td><td>cleaning_postgresql</td><td>pg_catalog</td><td>text</td><td>null</td><td>null</td><td>null</td><td>null</td><td>28</td><td>NO</td><td>NO</td><td>null</td><td>null</td><td>null</td><td>null</td><td>null</td><td>NO</td><td>NEVER</td><td>null</td><td>YES</td></tr><tr><td>cleaning_postgresql</td><td>public</td><td>parking_violation</td><td>sub_division</td><td>29</td><td>null</td><td>YES</td><td>text</td><td>null</td><td>1073741824</td><td>null</td><td>null</td><td>null</td><td>null</td><td>null</td><td>null</td><td>null</td><td>null</td><td>null</td><td>null</td><td>null</td><td>null</td><td>null</td><td>null</td><td>null</td><td>cleaning_postgresql</td><td>pg_catalog</td><td>text</td><td>null</td><td>null</td><td>null</td><td>null</td><td>29</td><td>NO</td><td>NO</td><td>null</td><td>null</td><td>null</td><td>null</td><td>null</td><td>NO</td><td>NEVER</td><td>null</td><td>YES</td></tr><tr><td>cleaning_postgresql</td><td>public</td><td>parking_violation</td><td>violation_legal_code</td><td>30</td><td>null</td><td>YES</td><td>text</td><td>null</td><td>1073741824</td><td>null</td><td>null</td><td>null</td><td>null</td><td>null</td><td>null</td><td>null</td><td>null</td><td>null</td><td>null</td><td>null</td><td>null</td><td>null</td><td>null</td><td>null</td><td>cleaning_postgresql</td><td>pg_catalog</td><td>text</td><td>null</td><td>null</td><td>null</td><td>null</td><td>30</td><td>NO</td><td>NO</td><td>null</td><td>null</td><td>null</td><td>null</td><td>null</td><td>NO</td><td>NEVER</td><td>null</td><td>YES</td></tr><tr><td>cleaning_postgresql</td><td>public</td><td>parking_violation</td><td>days_parking_in_effect</td><td>31</td><td>null</td><td>YES</td><td>text</td><td>null</td><td>1073741824</td><td>null</td><td>null</td><td>null</td><td>null</td><td>null</td><td>null</td><td>null</td><td>null</td><td>null</td><td>null</td><td>null</td><td>null</td><td>null</td><td>null</td><td>null</td><td>cleaning_postgresql</td><td>pg_catalog</td><td>text</td><td>null</td><td>null</td><td>null</td><td>null</td><td>31</td><td>NO</td><td>NO</td><td>null</td><td>null</td><td>null</td><td>null</td><td>null</td><td>NO</td><td>NEVER</td><td>null</td><td>YES</td></tr><tr><td>cleaning_postgresql</td><td>public</td><td>parking_violation</td><td>from_hours_in_effect</td><td>32</td><td>null</td><td>YES</td><td>text</td><td>null</td><td>1073741824</td><td>null</td><td>null</td><td>null</td><td>null</td><td>null</td><td>null</td><td>null</td><td>null</td><td>null</td><td>null</td><td>null</td><td>null</td><td>null</td><td>null</td><td>null</td><td>cleaning_postgresql</td><td>pg_catalog</td><td>text</td><td>null</td><td>null</td><td>null</td><td>null</td><td>32</td><td>NO</td><td>NO</td><td>null</td><td>null</td><td>null</td><td>null</td><td>null</td><td>NO</td><td>NEVER</td><td>null</td><td>YES</td></tr><tr><td>cleaning_postgresql</td><td>public</td><td>parking_violation</td><td>to_hours_in_effect</td><td>33</td><td>null</td><td>YES</td><td>text</td><td>null</td><td>1073741824</td><td>null</td><td>null</td><td>null</td><td>null</td><td>null</td><td>null</td><td>null</td><td>null</td><td>null</td><td>null</td><td>null</td><td>null</td><td>null</td><td>null</td><td>null</td><td>cleaning_postgresql</td><td>pg_catalog</td><td>text</td><td>null</td><td>null</td><td>null</td><td>null</td><td>33</td><td>NO</td><td>NO</td><td>null</td><td>null</td><td>null</td><td>null</td><td>null</td><td>NO</td><td>NEVER</td><td>null</td><td>YES</td></tr><tr><td>cleaning_postgresql</td><td>public</td><td>parking_violation</td><td>vehicle_color</td><td>34</td><td>null</td><td>YES</td><td>text</td><td>null</td><td>1073741824</td><td>null</td><td>null</td><td>null</td><td>null</td><td>null</td><td>null</td><td>null</td><td>null</td><td>null</td><td>null</td><td>null</td><td>null</td><td>null</td><td>null</td><td>null</td><td>cleaning_postgresql</td><td>pg_catalog</td><td>text</td><td>null</td><td>null</td><td>null</td><td>null</td><td>34</td><td>NO</td><td>NO</td><td>null</td><td>null</td><td>null</td><td>null</td><td>null</td><td>NO</td><td>NEVER</td><td>null</td><td>YES</td></tr><tr><td>cleaning_postgresql</td><td>public</td><td>parking_violation</td><td>unregistred_vehicle</td><td>35</td><td>null</td><td>YES</td><td>text</td><td>null</td><td>1073741824</td><td>null</td><td>null</td><td>null</td><td>null</td><td>null</td><td>null</td><td>null</td><td>null</td><td>null</td><td>null</td><td>null</td><td>null</td><td>null</td><td>null</td><td>null</td><td>cleaning_postgresql</td><td>pg_catalog</td><td>text</td><td>null</td><td>null</td><td>null</td><td>null</td><td>35</td><td>NO</td><td>NO</td><td>null</td><td>null</td><td>null</td><td>null</td><td>null</td><td>NO</td><td>NEVER</td><td>null</td><td>YES</td></tr><tr><td>cleaning_postgresql</td><td>public</td><td>parking_violation</td><td>vehicle_year</td><td>36</td><td>null</td><td>YES</td><td>text</td><td>null</td><td>1073741824</td><td>null</td><td>null</td><td>null</td><td>null</td><td>null</td><td>null</td><td>null</td><td>null</td><td>null</td><td>null</td><td>null</td><td>null</td><td>null</td><td>null</td><td>null</td><td>cleaning_postgresql</td><td>pg_catalog</td><td>text</td><td>null</td><td>null</td><td>null</td><td>null</td><td>36</td><td>NO</td><td>NO</td><td>null</td><td>null</td><td>null</td><td>null</td><td>null</td><td>NO</td><td>NEVER</td><td>null</td><td>YES</td></tr><tr><td>cleaning_postgresql</td><td>public</td><td>parking_violation</td><td>meter_number</td><td>37</td><td>null</td><td>YES</td><td>text</td><td>null</td><td>1073741824</td><td>null</td><td>null</td><td>null</td><td>null</td><td>null</td><td>null</td><td>null</td><td>null</td><td>null</td><td>null</td><td>null</td><td>null</td><td>null</td><td>null</td><td>null</td><td>cleaning_postgresql</td><td>pg_catalog</td><td>text</td><td>null</td><td>null</td><td>null</td><td>null</td><td>37</td><td>NO</td><td>NO</td><td>null</td><td>null</td><td>null</td><td>null</td><td>null</td><td>NO</td><td>NEVER</td><td>null</td><td>YES</td></tr><tr><td>cleaning_postgresql</td><td>public</td><td>parking_violation</td><td>feet_from_curb</td><td>38</td><td>null</td><td>YES</td><td>text</td><td>null</td><td>1073741824</td><td>null</td><td>null</td><td>null</td><td>null</td><td>null</td><td>null</td><td>null</td><td>null</td><td>null</td><td>null</td><td>null</td><td>null</td><td>null</td><td>null</td><td>null</td><td>cleaning_postgresql</td><td>pg_catalog</td><td>text</td><td>null</td><td>null</td><td>null</td><td>null</td><td>38</td><td>NO</td><td>NO</td><td>null</td><td>null</td><td>null</td><td>null</td><td>null</td><td>NO</td><td>NEVER</td><td>null</td><td>YES</td></tr><tr><td>cleaning_postgresql</td><td>public</td><td>parking_violation</td><td>violation_post_code</td><td>39</td><td>null</td><td>YES</td><td>text</td><td>null</td><td>1073741824</td><td>null</td><td>null</td><td>null</td><td>null</td><td>null</td><td>null</td><td>null</td><td>null</td><td>null</td><td>null</td><td>null</td><td>null</td><td>null</td><td>null</td><td>null</td><td>cleaning_postgresql</td><td>pg_catalog</td><td>text</td><td>null</td><td>null</td><td>null</td><td>null</td><td>39</td><td>NO</td><td>NO</td><td>null</td><td>null</td><td>null</td><td>null</td><td>null</td><td>NO</td><td>NEVER</td><td>null</td><td>YES</td></tr><tr><td>cleaning_postgresql</td><td>public</td><td>parking_violation</td><td>violation_description</td><td>40</td><td>null</td><td>YES</td><td>text</td><td>null</td><td>1073741824</td><td>null</td><td>null</td><td>null</td><td>null</td><td>null</td><td>null</td><td>null</td><td>null</td><td>null</td><td>null</td><td>null</td><td>null</td><td>null</td><td>null</td><td>null</td><td>cleaning_postgresql</td><td>pg_catalog</td><td>text</td><td>null</td><td>null</td><td>null</td><td>null</td><td>40</td><td>NO</td><td>NO</td><td>null</td><td>null</td><td>null</td><td>null</td><td>null</td><td>NO</td><td>NEVER</td><td>null</td><td>YES</td></tr><tr><td>cleaning_postgresql</td><td>public</td><td>parking_violation</td><td>no_standing_or_stopping_violation</td><td>41</td><td>null</td><td>YES</td><td>text</td><td>null</td><td>1073741824</td><td>null</td><td>null</td><td>null</td><td>null</td><td>null</td><td>null</td><td>null</td><td>null</td><td>null</td><td>null</td><td>null</td><td>null</td><td>null</td><td>null</td><td>null</td><td>cleaning_postgresql</td><td>pg_catalog</td><td>text</td><td>null</td><td>null</td><td>null</td><td>null</td><td>41</td><td>NO</td><td>NO</td><td>null</td><td>null</td><td>null</td><td>null</td><td>null</td><td>NO</td><td>NEVER</td><td>null</td><td>YES</td></tr><tr><td>cleaning_postgresql</td><td>public</td><td>parking_violation</td><td>hydrant_violation</td><td>42</td><td>null</td><td>YES</td><td>text</td><td>null</td><td>1073741824</td><td>null</td><td>null</td><td>null</td><td>null</td><td>null</td><td>null</td><td>null</td><td>null</td><td>null</td><td>null</td><td>null</td><td>null</td><td>null</td><td>null</td><td>null</td><td>cleaning_postgresql</td><td>pg_catalog</td><td>text</td><td>null</td><td>null</td><td>null</td><td>null</td><td>42</td><td>NO</td><td>NO</td><td>null</td><td>null</td><td>null</td><td>null</td><td>null</td><td>NO</td><td>NEVER</td><td>null</td><td>YES</td></tr><tr><td>cleaning_postgresql</td><td>public</td><td>parking_violation</td><td>double_parking_violation</td><td>43</td><td>null</td><td>YES</td><td>text</td><td>null</td><td>1073741824</td><td>null</td><td>null</td><td>null</td><td>null</td><td>null</td><td>null</td><td>null</td><td>null</td><td>null</td><td>null</td><td>null</td><td>null</td><td>null</td><td>null</td><td>null</td><td>cleaning_postgresql</td><td>pg_catalog</td><td>text</td><td>null</td><td>null</td><td>null</td><td>null</td><td>43</td><td>NO</td><td>NO</td><td>null</td><td>null</td><td>null</td><td>null</td><td>null</td><td>NO</td><td>NEVER</td><td>null</td><td>YES</td></tr></tbody></table>\"\"\"\n",
    "\n",
    "parking_violation_details = pd.read_html(table_detail_str)[0]\n",
    "parking_violation_details.head(2)"
   ]
  },
  {
   "cell_type": "code",
   "execution_count": 6,
   "metadata": {},
   "outputs": [
    {
     "name": "stdout",
     "output_type": "stream",
     "text": [
      "CREATE TABLE public (\n",
      "    id SERIAL PRIMARY KEY,\n",
      "    summons_number TEXT,\n",
      "    plate_id TEXT,\n",
      "    registration_state TEXT,\n",
      "    plate_type TEXT,\n",
      "    issue_date TEXT,\n",
      "    violation_code TEXT,\n",
      "    vehicle_body_type TEXT,\n",
      "    vehicle_make TEXT,\n",
      "    issuing_agency TEXT,\n",
      "    street_code1 TEXT,\n",
      "    street_code2 TEXT,\n",
      "    street_code3 TEXT,\n",
      "    vehicle_expiration_date TEXT,\n",
      "    violation_location TEXT,\n",
      "    violation_precinct TEXT,\n",
      "    issuer_precint TEXT,\n",
      "    issuer_code TEXT,\n",
      "    issuer_command TEXT,\n",
      "    issuer_squad TEXT,\n",
      "    violation_time TEXT,\n",
      "    time_first_observed TEXT,\n",
      "    violation_county TEXT,\n",
      "    violation_in_front_of_or_opposite TEXT,\n",
      "    house_number TEXT,\n",
      "    street_name TEXT,\n",
      "    intersecting_street TEXT,\n",
      "    date_first_observed TEXT,\n",
      "    law_section TEXT,\n",
      "    sub_division TEXT,\n",
      "    violation_legal_code TEXT,\n",
      "    days_parking_in_effect TEXT,\n",
      "    from_hours_in_effect TEXT,\n",
      "    to_hours_in_effect TEXT,\n",
      "    vehicle_color TEXT,\n",
      "    unregistred_vehicle TEXT,\n",
      "    vehicle_year TEXT,\n",
      "    meter_number TEXT,\n",
      "    feet_from_curb TEXT,\n",
      "    violation_post_code TEXT,\n",
      "    violation_description TEXT,\n",
      "    no_standing_or_stopping_violation TEXT,\n",
      "    hydrant_violation TEXT,\n",
      "    double_parking_violation TEXT\n",
      ");\n"
     ]
    }
   ],
   "source": [
    "lines = []\n",
    "table_name = None\n",
    "for _, row in parking_violation_details.iterrows():\n",
    "    if not table_name and row[\"table_schema\"]:\n",
    "        table_name = row[\"table_schema\"]        \n",
    "    line = [\"   \"]\n",
    "    line.append(row[\"column_name\"])\n",
    "    if row[\"data_type\"] == row[\"data_type\"]:\n",
    "        if row[\"data_type\"].lower() ==  \"text\":\n",
    "            line.append(row[\"data_type\"].upper())\n",
    "    if row[\"column_default\"] == row[\"column_default\"]:\n",
    "        line.append(f\"DEFAULT {row['column_default']}\")\n",
    "    if row[\"is_nullable\"].lower() == \"no\":\n",
    "        line.append(\"NOT NULL\")\n",
    "    lines.append(line)\n",
    "\n",
    "create_statement = f\"CREATE TABLE {table_name} (\\n\"\n",
    "pk_line =  \"    id SERIAL PRIMARY KEY,\\n\"\n",
    "columns_and_types = \",\\n\".join([\" \".join(line) for line in lines])\n",
    "closing = \"\\n);\"\n",
    "\n",
    "create_query = create_statement + pk_line + columns_and_types + closing\n",
    "print(create_query)"
   ]
  },
  {
   "cell_type": "code",
   "execution_count": null,
   "metadata": {},
   "outputs": [],
   "source": []
  },
  {
   "cell_type": "code",
   "execution_count": null,
   "metadata": {},
   "outputs": [],
   "source": []
  },
  {
   "cell_type": "code",
   "execution_count": null,
   "metadata": {},
   "outputs": [],
   "source": []
  },
  {
   "cell_type": "code",
   "execution_count": null,
   "metadata": {},
   "outputs": [],
   "source": []
  },
  {
   "cell_type": "code",
   "execution_count": null,
   "metadata": {},
   "outputs": [],
   "source": []
  },
  {
   "cell_type": "markdown",
   "metadata": {},
   "source": [
    "# misc"
   ]
  },
  {
   "cell_type": "markdown",
   "metadata": {},
   "source": [
    "```sql \n",
    "SELECT column_name, data_type from information_schema.columns\n",
    "WHERE table_name = 'parking_violation';\n",
    "\n",
    "SELECT *\n",
    "FROM pg_catalog.pg_constraint;\n",
    "\n",
    "SELECT *\n",
    "FROM pg_catalog.table_constraints;\n",
    "\n",
    "SELECT *\n",
    "FROM pg_catalog.pg_namespace;\n",
    "\n",
    "SELECT *\n",
    "FROM information_schema.referential_constraints;\n",
    "\n",
    "SELECT *\n",
    "FROM information_schema.constraint_column_usage;\n",
    "\n",
    "SELECT *\n",
    "FROM information_schema.columns;\n",
    "\n",
    "SELECT *\n",
    "FROM information_schema.columns\n",
    "WHERE table_schema = 'public';\n",
    "\n",
    "SELECT *\n",
    "FROM information_schema.columns\n",
    "WHERE table_name = 'parking_violation';\n",
    "\n",
    "SELECT *\n",
    "FROM information_schema.key_column_usage\n",
    "WHERE table_name = 'parking_violation';\n",
    "\n",
    "SELECT *\n",
    "FROM information_schema.key_column_usage;\n",
    "WHERE table_name = 'parking_violation';\n",
    "\n",
    "SELECT a.attname, format_type(a.atttypid, a.atttypmod) AS data_type\n",
    "FROM   pg_index i\n",
    "JOIN   pg_attribute a ON a.attrelid = i.indrelid\n",
    "                     AND a.attnum = ANY(i.indkey)\n",
    "WHERE  i.indrelid = 'parking_violation'::regclass\n",
    "AND    i.indisprimary;\n",
    "\n",
    "SELECT * \n",
    "FROM   pg_index i\n",
    "JOIN   pg_attribute a ON a.attrelid = i.indrelid\n",
    "                     AND a.attnum = ANY(i.indkey)\n",
    "WHERE  i.indrelid = 'parking_violation'::regclass\n",
    "AND    i.indisprimary;\n",
    "\n",
    "```"
   ]
  },
  {
   "cell_type": "code",
   "execution_count": null,
   "metadata": {},
   "outputs": [],
   "source": []
  },
  {
   "cell_type": "code",
   "execution_count": null,
   "metadata": {},
   "outputs": [],
   "source": []
  },
  {
   "cell_type": "code",
   "execution_count": null,
   "metadata": {},
   "outputs": [],
   "source": []
  },
  {
   "cell_type": "code",
   "execution_count": null,
   "metadata": {},
   "outputs": [],
   "source": []
  },
  {
   "cell_type": "code",
   "execution_count": null,
   "metadata": {},
   "outputs": [],
   "source": []
  },
  {
   "cell_type": "code",
   "execution_count": null,
   "metadata": {},
   "outputs": [],
   "source": []
  },
  {
   "cell_type": "code",
   "execution_count": null,
   "metadata": {},
   "outputs": [],
   "source": []
  },
  {
   "cell_type": "code",
   "execution_count": null,
   "metadata": {},
   "outputs": [],
   "source": []
  },
  {
   "cell_type": "code",
   "execution_count": null,
   "metadata": {},
   "outputs": [],
   "source": []
  },
  {
   "cell_type": "code",
   "execution_count": null,
   "metadata": {},
   "outputs": [],
   "source": []
  },
  {
   "cell_type": "code",
   "execution_count": null,
   "metadata": {},
   "outputs": [],
   "source": []
  },
  {
   "cell_type": "code",
   "execution_count": null,
   "metadata": {},
   "outputs": [],
   "source": []
  },
  {
   "cell_type": "code",
   "execution_count": null,
   "metadata": {},
   "outputs": [],
   "source": []
  }
 ],
 "metadata": {
  "kernelspec": {
   "display_name": "Python (geo_env)",
   "language": "python",
   "name": "geo_env"
  },
  "language_info": {
   "codemirror_mode": {
    "name": "ipython",
    "version": 3
   },
   "file_extension": ".py",
   "mimetype": "text/x-python",
   "name": "python",
   "nbconvert_exporter": "python",
   "pygments_lexer": "ipython3",
   "version": "3.9.2"
  }
 },
 "nbformat": 4,
 "nbformat_minor": 4
}
